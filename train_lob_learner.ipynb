{
 "cells": [
  {
   "cell_type": "code",
   "id": "initial_id",
   "metadata": {
    "collapsed": true,
    "ExecuteTime": {
     "end_time": "2025-04-09T19:40:28.267337Z",
     "start_time": "2025-04-09T19:40:27.111632Z"
    }
   },
   "source": [
    "import pandas as pd\n",
    "import torch\n",
    "from loader.fi_loader import *"
   ],
   "outputs": [],
   "execution_count": 1
  },
  {
   "metadata": {},
   "cell_type": "code",
   "outputs": [],
   "execution_count": null,
   "source": "DATA_DIR = r'./BenchmarkDatasets'",
   "id": "a63038f2aefc68f3"
  },
  {
   "metadata": {},
   "cell_type": "markdown",
   "source": "Train LOB learner for each of the cross validation datasets and normalization method",
   "id": "70e9eb305eacec91"
  },
  {
   "metadata": {},
   "cell_type": "code",
   "outputs": [],
   "execution_count": null,
   "source": [
    "for cf in range(1, 10):\n",
    "    for method in ['Zscore', 'MinMax']:\n",
    "\n",
    "        train_data, test_data = get_raw_dataset(DATA_DIR)\n",
    "        train_X, train_Y = split_x_y(train_data)\n",
    "        test_X, test_Y = split_x_y(test_data)\n",
    "\n"
   ],
   "id": "e551855d1df8e63d"
  }
 ],
 "metadata": {
  "kernelspec": {
   "display_name": "Python 3",
   "language": "python",
   "name": "python3"
  },
  "language_info": {
   "codemirror_mode": {
    "name": "ipython",
    "version": 2
   },
   "file_extension": ".py",
   "mimetype": "text/x-python",
   "name": "python",
   "nbconvert_exporter": "python",
   "pygments_lexer": "ipython2",
   "version": "2.7.6"
  }
 },
 "nbformat": 4,
 "nbformat_minor": 5
}
