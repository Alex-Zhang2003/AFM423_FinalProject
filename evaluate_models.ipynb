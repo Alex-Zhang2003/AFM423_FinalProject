{
 "cells": [
  {
   "cell_type": "code",
   "id": "initial_id",
   "metadata": {
    "collapsed": true,
    "ExecuteTime": {
     "end_time": "2025-04-15T16:04:38.937605Z",
     "start_time": "2025-04-15T16:04:38.930574Z"
    }
   },
   "source": [
    "from models.cnn_lstm import CNN_LSTM\n",
    "from models.cnn import CNN\n",
    "from models.lstm import LSTM\n",
    "from models.mlp import MLP\n",
    "from utils import load_model, DATA_DIR, BATCH_SIZE, NUM_WORKER\n",
    "from loader.fi_loader import FIDataset\n",
    "\n",
    "import torch\n",
    "from torch.utils.data import DataLoader\n",
    "\n",
    "import os\n",
    "from itertools import product\n",
    "\n",
    "from sklearn.metrics import accuracy_score, precision_score, recall_score, f1_score"
   ],
   "outputs": [],
   "execution_count": 4
  },
  {
   "metadata": {},
   "cell_type": "markdown",
   "source": "# Generate Testing Statistics",
   "id": "ccdfab40af878431"
  },
  {
   "metadata": {
    "ExecuteTime": {
     "end_time": "2025-04-15T16:04:38.955564Z",
     "start_time": "2025-04-15T16:04:38.953072Z"
    }
   },
   "cell_type": "code",
   "source": [
    "testing_results = {\n",
    "    'model_type': [],\n",
    "    'train_data_size': [],\n",
    "    'prediction_horizon': [],\n",
    "    'accuracy': [],\n",
    "    'precision': [],\n",
    "    'recall': [],\n",
    "    'f1': []\n",
    "}"
   ],
   "id": "a6b769ee11fe56e4",
   "outputs": [],
   "execution_count": 5
  },
  {
   "metadata": {
    "ExecuteTime": {
     "end_time": "2025-04-15T16:08:51.261181Z",
     "start_time": "2025-04-15T16:04:38.970511Z"
    }
   },
   "cell_type": "code",
   "source": [
    "for model_name, model_type in zip(['CNN_LSTM', 'CNN', 'LSTM', 'MLP'], [CNN_LSTM, CNN, LSTM, MLP]):\n",
    "    model_path = os.path.join('.', 'trained_models', model_name)\n",
    "\n",
    "    for cf, k in product([1, 3, 5, 8], [0, 2, 4]):\n",
    "\n",
    "        trained_model_path = os.path.join(model_path, f'CNN_LSTM_Zscore_CF{cf}_pred_{k}.pth')\n",
    "        print(trained_model_path)\n",
    "\n",
    "        trained_model = load_model(model_type, trained_model_path)\n",
    "\n",
    "        test_data = FIDataset(DATA_DIR, 'Zscore', cf, k=k, train=False)\n",
    "        test_loader = DataLoader(dataset=test_data, batch_size=BATCH_SIZE, shuffle=True, num_workers=NUM_WORKER)\n",
    "\n",
    "        trained_model.eval()\n",
    "        trained_model.to(trained_model.device)\n",
    "\n",
    "        all_predictions = []\n",
    "        all_targets = []\n",
    "\n",
    "        with torch.no_grad():\n",
    "            for inputs, targets in test_loader:\n",
    "                inputs, targets = inputs.to(trained_model.device, dtype=torch.float32), targets.to(trained_model.device, dtype=torch.int64)\n",
    "                outputs = trained_model(inputs)\n",
    "                _, predictions = torch.max(outputs, 1)\n",
    "\n",
    "                all_predictions.extend(predictions.cpu().numpy())\n",
    "                all_targets.extend(targets.cpu().numpy())\n",
    "\n",
    "        accuracy = accuracy_score(all_targets, all_predictions)\n",
    "        precision = precision_score(all_targets, all_predictions, average='weighted', zero_division=0)\n",
    "        recall = recall_score(all_targets, all_predictions, average='weighted', zero_division=0)\n",
    "        f1 = f1_score(all_targets, all_predictions, average='weighted', zero_division=0)\n",
    "\n",
    "        testing_results['model_type'].append(model_name)\n",
    "        testing_results['train_data_size'].append(cf)\n",
    "        testing_results['prediction_horizon'].append(k)\n",
    "        testing_results['accuracy'].append(accuracy)\n",
    "        testing_results['precision'].append(precision)\n",
    "        testing_results['recall'].append(recall)\n",
    "        testing_results['f1'].append(f1)\n",
    "        print(testing_results)"
   ],
   "id": "5774effc13c0ed6c",
   "outputs": [
    {
     "name": "stdout",
     "output_type": "stream",
     "text": [
      "./trained_models/CNN_LSTM/CNN_LSTM_Zscore_CF1_pred_0.pth\n",
      "{'model_type': [<class 'models.cnn_lstm.CNN_LSTM'>], 'train_data_size': [1], 'prediction_horizon': [0], 'accuracy': [0.5661914460285132], 'precision': [0.5661914460285132], 'recall': [0.5661914460285132], 'f1': [0.468106838291607]}\n",
      "./trained_models/CNN_LSTM/CNN_LSTM_Zscore_CF1_pred_2.pth\n",
      "{'model_type': [<class 'models.cnn_lstm.CNN_LSTM'>, <class 'models.cnn_lstm.CNN_LSTM'>], 'train_data_size': [1, 1], 'prediction_horizon': [0, 2], 'accuracy': [0.5661914460285132, 0.3798892892579247], 'precision': [0.5661914460285132, 0.3798892892579247], 'recall': [0.5661914460285132, 0.3798892892579247], 'f1': [0.468106838291607, 0.3795995871420431]}\n",
      "./trained_models/CNN_LSTM/CNN_LSTM_Zscore_CF1_pred_4.pth\n"
     ]
    },
    {
     "name": "stderr",
     "output_type": "stream",
     "text": [
      "Exception ignored in: <function _MultiProcessingDataLoaderIter.__del__ at 0x1076dc9a0>\n",
      "Traceback (most recent call last):\n",
      "  File \"/Users/alexzhang/Desktop/Academic/4B/CS 480/.venv/lib/python3.13/site-packages/torch/utils/data/dataloader.py\", line 1618, in __del__\n",
      "    self._shutdown_workers()\n",
      "  File \"/Users/alexzhang/Desktop/Academic/4B/CS 480/.venv/lib/python3.13/site-packages/torch/utils/data/dataloader.py\", line 1582, in _shutdown_workers\n",
      "    w.join(timeout=_utils.MP_STATUS_CHECK_INTERVAL)\n",
      "  File \"/Library/Frameworks/Python.framework/Versions/3.13/lib/python3.13/multiprocessing/process.py\", line 149, in join\n",
      "    res = self._popen.wait(timeout)\n",
      "  File \"/Library/Frameworks/Python.framework/Versions/3.13/lib/python3.13/multiprocessing/popen_fork.py\", line 41, in wait\n",
      "    if not wait([self.sentinel], timeout):\n",
      "  File \"/Library/Frameworks/Python.framework/Versions/3.13/lib/python3.13/multiprocessing/connection.py\", line 1148, in wait\n",
      "    ready = selector.select(timeout)\n",
      "  File \"/Library/Frameworks/Python.framework/Versions/3.13/lib/python3.13/selectors.py\", line 398, in select\n",
      "    fd_event_list = self._selector.poll(timeout)\n",
      "KeyboardInterrupt: \n",
      "\n",
      "KeyboardInterrupt\n",
      "\n"
     ]
    }
   ],
   "execution_count": 6
  }
 ],
 "metadata": {
  "kernelspec": {
   "display_name": "Python 3",
   "language": "python",
   "name": "python3"
  },
  "language_info": {
   "codemirror_mode": {
    "name": "ipython",
    "version": 2
   },
   "file_extension": ".py",
   "mimetype": "text/x-python",
   "name": "python",
   "nbconvert_exporter": "python",
   "pygments_lexer": "ipython2",
   "version": "2.7.6"
  }
 },
 "nbformat": 4,
 "nbformat_minor": 5
}
