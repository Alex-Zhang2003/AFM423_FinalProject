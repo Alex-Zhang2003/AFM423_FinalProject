{
 "cells": [
  {
   "cell_type": "code",
   "id": "initial_id",
   "metadata": {
    "collapsed": true,
    "ExecuteTime": {
     "end_time": "2025-04-15T16:39:48.274326Z",
     "start_time": "2025-04-15T16:39:48.269827Z"
    }
   },
   "source": [
    "from models.cnn_lstm import CNN_LSTM\n",
    "from models.cnn import CNN\n",
    "from models.lstm import LSTM\n",
    "from models.mlp import MLP\n",
    "from utils import load_model, DATA_DIR, BATCH_SIZE, NUM_WORKER\n",
    "from loader.fi_loader import FIDataset\n",
    "\n",
    "import torch\n",
    "from torch.utils.data import DataLoader\n",
    "\n",
    "import os\n",
    "from itertools import product\n",
    "from tqdm import tqdm\n",
    "\n",
    "from sklearn.metrics import accuracy_score, precision_score, recall_score, f1_score"
   ],
   "outputs": [],
   "execution_count": 20
  },
  {
   "metadata": {},
   "cell_type": "markdown",
   "source": "# Generate Testing Statistics",
   "id": "ccdfab40af878431"
  },
  {
   "metadata": {
    "ExecuteTime": {
     "end_time": "2025-04-15T16:39:48.324411Z",
     "start_time": "2025-04-15T16:39:48.319939Z"
    }
   },
   "cell_type": "code",
   "source": [
    "testing_results = {\n",
    "    'model_type': [],\n",
    "    'train_data_size': [],\n",
    "    'prediction_horizon': [],\n",
    "    'accuracy': [],\n",
    "    'precision': [],\n",
    "    'recall': [],\n",
    "    'f1': []\n",
    "}"
   ],
   "id": "a6b769ee11fe56e4",
   "outputs": [],
   "execution_count": 21
  },
  {
   "metadata": {
    "ExecuteTime": {
     "end_time": "2025-04-15T16:45:55.755001Z",
     "start_time": "2025-04-15T16:39:48.451523Z"
    }
   },
   "cell_type": "code",
   "source": [
    "testing_params = product(zip(['CNN_LSTM', 'CNN', 'LSTM', 'MLP'], [CNN_LSTM, CNN, LSTM, MLP]), [1, 3, 5, 8], [0, 2, 4])\n",
    "\n",
    "for (model_name, model_type), cf, k in tqdm(testing_params):\n",
    "    model_path = os.path.join('.', 'trained_models', model_name)\n",
    "    trained_model_path = os.path.join(model_path, f'{model_name}_Zscore_CF{cf}_pred_{k}.pth')\n",
    "    print(trained_model_path)\n",
    "\n",
    "    trained_model = load_model(model_type, trained_model_path)\n",
    "\n",
    "    test_data = FIDataset(DATA_DIR, 'Zscore', cf, k=k, train=False)\n",
    "    test_loader = DataLoader(dataset=test_data, batch_size=BATCH_SIZE, shuffle=True, num_workers=NUM_WORKER)\n",
    "\n",
    "    trained_model.eval()\n",
    "    trained_model.to(trained_model.device)\n",
    "\n",
    "    all_predictions = []\n",
    "    all_targets = []\n",
    "\n",
    "    with torch.no_grad():\n",
    "        for inputs, targets in test_loader:\n",
    "            inputs, targets = inputs.to(trained_model.device, dtype=torch.float32), targets.to(trained_model.device, dtype=torch.int64)\n",
    "            outputs = trained_model(inputs)\n",
    "            _, predictions = torch.max(outputs, 1)\n",
    "\n",
    "            all_predictions.extend(predictions.cpu().numpy())\n",
    "            all_targets.extend(targets.cpu().numpy())\n",
    "\n",
    "    accuracy = accuracy_score(all_targets, all_predictions)\n",
    "    precision = precision_score(all_targets, all_predictions, average='weighted', zero_division=0)\n",
    "    recall = recall_score(all_targets, all_predictions, average='weighted', zero_division=0)\n",
    "    f1 = f1_score(all_targets, all_predictions, average='weighted', zero_division=0)\n",
    "\n",
    "    testing_results['model_type'].append(model_name)\n",
    "    testing_results['train_data_size'].append(cf)\n",
    "    testing_results['prediction_horizon'].append(k)\n",
    "    testing_results['accuracy'].append(accuracy)\n",
    "    testing_results['precision'].append(precision)\n",
    "    testing_results['recall'].append(recall)\n",
    "    testing_results['f1'].append(f1)"
   ],
   "id": "5774effc13c0ed6c",
   "outputs": [
    {
     "name": "stderr",
     "output_type": "stream",
     "text": [
      "0it [00:00, ?it/s]"
     ]
    },
    {
     "name": "stdout",
     "output_type": "stream",
     "text": [
      ".\\trained_models\\CNN_LSTM\\CNN_LSTM_Zscore_CF1_pred_0.pth\n"
     ]
    },
    {
     "name": "stderr",
     "output_type": "stream",
     "text": [
      "1it [00:10, 10.76s/it]"
     ]
    },
    {
     "name": "stdout",
     "output_type": "stream",
     "text": [
      ".\\trained_models\\CNN_LSTM\\CNN_LSTM_Zscore_CF1_pred_2.pth\n"
     ]
    },
    {
     "name": "stderr",
     "output_type": "stream",
     "text": [
      "2it [00:19,  9.51s/it]"
     ]
    },
    {
     "name": "stdout",
     "output_type": "stream",
     "text": [
      ".\\trained_models\\CNN_LSTM\\CNN_LSTM_Zscore_CF1_pred_4.pth\n"
     ]
    },
    {
     "name": "stderr",
     "output_type": "stream",
     "text": [
      "3it [00:27,  9.03s/it]"
     ]
    },
    {
     "name": "stdout",
     "output_type": "stream",
     "text": [
      ".\\trained_models\\CNN_LSTM\\CNN_LSTM_Zscore_CF3_pred_0.pth\n"
     ]
    },
    {
     "name": "stderr",
     "output_type": "stream",
     "text": [
      "4it [00:35,  8.66s/it]"
     ]
    },
    {
     "name": "stdout",
     "output_type": "stream",
     "text": [
      ".\\trained_models\\CNN_LSTM\\CNN_LSTM_Zscore_CF3_pred_2.pth\n"
     ]
    },
    {
     "name": "stderr",
     "output_type": "stream",
     "text": [
      "5it [00:43,  8.44s/it]"
     ]
    },
    {
     "name": "stdout",
     "output_type": "stream",
     "text": [
      ".\\trained_models\\CNN_LSTM\\CNN_LSTM_Zscore_CF3_pred_4.pth\n"
     ]
    },
    {
     "name": "stderr",
     "output_type": "stream",
     "text": [
      "6it [00:52,  8.35s/it]"
     ]
    },
    {
     "name": "stdout",
     "output_type": "stream",
     "text": [
      ".\\trained_models\\CNN_LSTM\\CNN_LSTM_Zscore_CF5_pred_0.pth\n"
     ]
    },
    {
     "name": "stderr",
     "output_type": "stream",
     "text": [
      "7it [01:00,  8.29s/it]"
     ]
    },
    {
     "name": "stdout",
     "output_type": "stream",
     "text": [
      ".\\trained_models\\CNN_LSTM\\CNN_LSTM_Zscore_CF5_pred_2.pth\n"
     ]
    },
    {
     "name": "stderr",
     "output_type": "stream",
     "text": [
      "8it [01:09,  8.42s/it]"
     ]
    },
    {
     "name": "stdout",
     "output_type": "stream",
     "text": [
      ".\\trained_models\\CNN_LSTM\\CNN_LSTM_Zscore_CF5_pred_4.pth\n"
     ]
    },
    {
     "name": "stderr",
     "output_type": "stream",
     "text": [
      "9it [01:17,  8.54s/it]"
     ]
    },
    {
     "name": "stdout",
     "output_type": "stream",
     "text": [
      ".\\trained_models\\CNN_LSTM\\CNN_LSTM_Zscore_CF8_pred_0.pth\n"
     ]
    },
    {
     "name": "stderr",
     "output_type": "stream",
     "text": [
      "10it [01:28,  9.14s/it]"
     ]
    },
    {
     "name": "stdout",
     "output_type": "stream",
     "text": [
      ".\\trained_models\\CNN_LSTM\\CNN_LSTM_Zscore_CF8_pred_2.pth\n"
     ]
    },
    {
     "name": "stderr",
     "output_type": "stream",
     "text": [
      "11it [01:38,  9.41s/it]"
     ]
    },
    {
     "name": "stdout",
     "output_type": "stream",
     "text": [
      ".\\trained_models\\CNN_LSTM\\CNN_LSTM_Zscore_CF8_pred_4.pth\n"
     ]
    },
    {
     "name": "stderr",
     "output_type": "stream",
     "text": [
      "12it [01:48,  9.60s/it]"
     ]
    },
    {
     "name": "stdout",
     "output_type": "stream",
     "text": [
      ".\\trained_models\\CNN\\CNN_Zscore_CF1_pred_0.pth\n"
     ]
    },
    {
     "name": "stderr",
     "output_type": "stream",
     "text": [
      "13it [01:55,  8.82s/it]"
     ]
    },
    {
     "name": "stdout",
     "output_type": "stream",
     "text": [
      ".\\trained_models\\CNN\\CNN_Zscore_CF1_pred_2.pth\n"
     ]
    },
    {
     "name": "stderr",
     "output_type": "stream",
     "text": [
      "14it [02:02,  8.16s/it]"
     ]
    },
    {
     "name": "stdout",
     "output_type": "stream",
     "text": [
      ".\\trained_models\\CNN\\CNN_Zscore_CF1_pred_4.pth\n"
     ]
    },
    {
     "name": "stderr",
     "output_type": "stream",
     "text": [
      "15it [02:08,  7.70s/it]"
     ]
    },
    {
     "name": "stdout",
     "output_type": "stream",
     "text": [
      ".\\trained_models\\CNN\\CNN_Zscore_CF3_pred_0.pth\n"
     ]
    },
    {
     "name": "stderr",
     "output_type": "stream",
     "text": [
      "16it [02:15,  7.38s/it]"
     ]
    },
    {
     "name": "stdout",
     "output_type": "stream",
     "text": [
      ".\\trained_models\\CNN\\CNN_Zscore_CF3_pred_2.pth\n"
     ]
    },
    {
     "name": "stderr",
     "output_type": "stream",
     "text": [
      "17it [02:21,  7.13s/it]"
     ]
    },
    {
     "name": "stdout",
     "output_type": "stream",
     "text": [
      ".\\trained_models\\CNN\\CNN_Zscore_CF3_pred_4.pth\n"
     ]
    },
    {
     "name": "stderr",
     "output_type": "stream",
     "text": [
      "18it [02:28,  6.92s/it]"
     ]
    },
    {
     "name": "stdout",
     "output_type": "stream",
     "text": [
      ".\\trained_models\\CNN\\CNN_Zscore_CF5_pred_0.pth\n"
     ]
    },
    {
     "name": "stderr",
     "output_type": "stream",
     "text": [
      "19it [02:34,  6.84s/it]"
     ]
    },
    {
     "name": "stdout",
     "output_type": "stream",
     "text": [
      ".\\trained_models\\CNN\\CNN_Zscore_CF5_pred_2.pth\n"
     ]
    },
    {
     "name": "stderr",
     "output_type": "stream",
     "text": [
      "20it [02:41,  6.78s/it]"
     ]
    },
    {
     "name": "stdout",
     "output_type": "stream",
     "text": [
      ".\\trained_models\\CNN\\CNN_Zscore_CF5_pred_4.pth\n"
     ]
    },
    {
     "name": "stderr",
     "output_type": "stream",
     "text": [
      "21it [02:48,  6.74s/it]"
     ]
    },
    {
     "name": "stdout",
     "output_type": "stream",
     "text": [
      ".\\trained_models\\CNN\\CNN_Zscore_CF8_pred_0.pth\n"
     ]
    },
    {
     "name": "stderr",
     "output_type": "stream",
     "text": [
      "22it [02:56,  7.07s/it]"
     ]
    },
    {
     "name": "stdout",
     "output_type": "stream",
     "text": [
      ".\\trained_models\\CNN\\CNN_Zscore_CF8_pred_2.pth\n"
     ]
    },
    {
     "name": "stderr",
     "output_type": "stream",
     "text": [
      "23it [03:03,  7.31s/it]"
     ]
    },
    {
     "name": "stdout",
     "output_type": "stream",
     "text": [
      ".\\trained_models\\CNN\\CNN_Zscore_CF8_pred_4.pth\n"
     ]
    },
    {
     "name": "stderr",
     "output_type": "stream",
     "text": [
      "24it [03:11,  7.49s/it]"
     ]
    },
    {
     "name": "stdout",
     "output_type": "stream",
     "text": [
      ".\\trained_models\\LSTM\\LSTM_Zscore_CF1_pred_0.pth\n"
     ]
    },
    {
     "name": "stderr",
     "output_type": "stream",
     "text": [
      "25it [03:18,  7.38s/it]"
     ]
    },
    {
     "name": "stdout",
     "output_type": "stream",
     "text": [
      ".\\trained_models\\LSTM\\LSTM_Zscore_CF1_pred_2.pth\n"
     ]
    },
    {
     "name": "stderr",
     "output_type": "stream",
     "text": [
      "26it [03:25,  7.22s/it]"
     ]
    },
    {
     "name": "stdout",
     "output_type": "stream",
     "text": [
      ".\\trained_models\\LSTM\\LSTM_Zscore_CF1_pred_4.pth\n"
     ]
    },
    {
     "name": "stderr",
     "output_type": "stream",
     "text": [
      "27it [03:32,  7.08s/it]"
     ]
    },
    {
     "name": "stdout",
     "output_type": "stream",
     "text": [
      ".\\trained_models\\LSTM\\LSTM_Zscore_CF3_pred_0.pth\n"
     ]
    },
    {
     "name": "stderr",
     "output_type": "stream",
     "text": [
      "28it [03:39,  6.97s/it]"
     ]
    },
    {
     "name": "stdout",
     "output_type": "stream",
     "text": [
      ".\\trained_models\\LSTM\\LSTM_Zscore_CF3_pred_2.pth\n"
     ]
    },
    {
     "name": "stderr",
     "output_type": "stream",
     "text": [
      "29it [03:46,  6.89s/it]"
     ]
    },
    {
     "name": "stdout",
     "output_type": "stream",
     "text": [
      ".\\trained_models\\LSTM\\LSTM_Zscore_CF3_pred_4.pth\n"
     ]
    },
    {
     "name": "stderr",
     "output_type": "stream",
     "text": [
      "30it [03:52,  6.84s/it]"
     ]
    },
    {
     "name": "stdout",
     "output_type": "stream",
     "text": [
      ".\\trained_models\\LSTM\\LSTM_Zscore_CF5_pred_0.pth\n"
     ]
    },
    {
     "name": "stderr",
     "output_type": "stream",
     "text": [
      "31it [04:00,  7.17s/it]"
     ]
    },
    {
     "name": "stdout",
     "output_type": "stream",
     "text": [
      ".\\trained_models\\LSTM\\LSTM_Zscore_CF5_pred_2.pth\n"
     ]
    },
    {
     "name": "stderr",
     "output_type": "stream",
     "text": [
      "32it [04:08,  7.29s/it]"
     ]
    },
    {
     "name": "stdout",
     "output_type": "stream",
     "text": [
      ".\\trained_models\\LSTM\\LSTM_Zscore_CF5_pred_4.pth\n"
     ]
    },
    {
     "name": "stderr",
     "output_type": "stream",
     "text": [
      "33it [04:15,  7.38s/it]"
     ]
    },
    {
     "name": "stdout",
     "output_type": "stream",
     "text": [
      ".\\trained_models\\LSTM\\LSTM_Zscore_CF8_pred_0.pth\n"
     ]
    },
    {
     "name": "stderr",
     "output_type": "stream",
     "text": [
      "34it [04:24,  7.65s/it]"
     ]
    },
    {
     "name": "stdout",
     "output_type": "stream",
     "text": [
      ".\\trained_models\\LSTM\\LSTM_Zscore_CF8_pred_2.pth\n"
     ]
    },
    {
     "name": "stderr",
     "output_type": "stream",
     "text": [
      "35it [04:32,  7.89s/it]"
     ]
    },
    {
     "name": "stdout",
     "output_type": "stream",
     "text": [
      ".\\trained_models\\LSTM\\LSTM_Zscore_CF8_pred_4.pth\n"
     ]
    },
    {
     "name": "stderr",
     "output_type": "stream",
     "text": [
      "36it [04:40,  8.03s/it]"
     ]
    },
    {
     "name": "stdout",
     "output_type": "stream",
     "text": [
      ".\\trained_models\\MLP\\MLP_Zscore_CF1_pred_0.pth\n"
     ]
    },
    {
     "name": "stderr",
     "output_type": "stream",
     "text": [
      "37it [04:47,  7.73s/it]"
     ]
    },
    {
     "name": "stdout",
     "output_type": "stream",
     "text": [
      ".\\trained_models\\MLP\\MLP_Zscore_CF1_pred_2.pth\n"
     ]
    },
    {
     "name": "stderr",
     "output_type": "stream",
     "text": [
      "38it [04:55,  7.69s/it]"
     ]
    },
    {
     "name": "stdout",
     "output_type": "stream",
     "text": [
      ".\\trained_models\\MLP\\MLP_Zscore_CF1_pred_4.pth\n"
     ]
    },
    {
     "name": "stderr",
     "output_type": "stream",
     "text": [
      "39it [05:02,  7.45s/it]"
     ]
    },
    {
     "name": "stdout",
     "output_type": "stream",
     "text": [
      ".\\trained_models\\MLP\\MLP_Zscore_CF3_pred_0.pth\n"
     ]
    },
    {
     "name": "stderr",
     "output_type": "stream",
     "text": [
      "40it [05:09,  7.23s/it]"
     ]
    },
    {
     "name": "stdout",
     "output_type": "stream",
     "text": [
      ".\\trained_models\\MLP\\MLP_Zscore_CF3_pred_2.pth\n"
     ]
    },
    {
     "name": "stderr",
     "output_type": "stream",
     "text": [
      "41it [05:15,  7.05s/it]"
     ]
    },
    {
     "name": "stdout",
     "output_type": "stream",
     "text": [
      ".\\trained_models\\MLP\\MLP_Zscore_CF3_pred_4.pth\n"
     ]
    },
    {
     "name": "stderr",
     "output_type": "stream",
     "text": [
      "42it [05:22,  6.92s/it]"
     ]
    },
    {
     "name": "stdout",
     "output_type": "stream",
     "text": [
      ".\\trained_models\\MLP\\MLP_Zscore_CF5_pred_0.pth\n"
     ]
    },
    {
     "name": "stderr",
     "output_type": "stream",
     "text": [
      "43it [05:29,  6.87s/it]"
     ]
    },
    {
     "name": "stdout",
     "output_type": "stream",
     "text": [
      ".\\trained_models\\MLP\\MLP_Zscore_CF5_pred_2.pth\n"
     ]
    },
    {
     "name": "stderr",
     "output_type": "stream",
     "text": [
      "44it [05:35,  6.87s/it]"
     ]
    },
    {
     "name": "stdout",
     "output_type": "stream",
     "text": [
      ".\\trained_models\\MLP\\MLP_Zscore_CF5_pred_4.pth\n"
     ]
    },
    {
     "name": "stderr",
     "output_type": "stream",
     "text": [
      "45it [05:42,  6.87s/it]"
     ]
    },
    {
     "name": "stdout",
     "output_type": "stream",
     "text": [
      ".\\trained_models\\MLP\\MLP_Zscore_CF8_pred_0.pth\n"
     ]
    },
    {
     "name": "stderr",
     "output_type": "stream",
     "text": [
      "46it [05:50,  7.21s/it]"
     ]
    },
    {
     "name": "stdout",
     "output_type": "stream",
     "text": [
      ".\\trained_models\\MLP\\MLP_Zscore_CF8_pred_2.pth\n"
     ]
    },
    {
     "name": "stderr",
     "output_type": "stream",
     "text": [
      "47it [05:59,  7.55s/it]"
     ]
    },
    {
     "name": "stdout",
     "output_type": "stream",
     "text": [
      ".\\trained_models\\MLP\\MLP_Zscore_CF8_pred_4.pth\n"
     ]
    },
    {
     "name": "stderr",
     "output_type": "stream",
     "text": [
      "48it [06:07,  7.65s/it]\n"
     ]
    }
   ],
   "execution_count": 22
  },
  {
   "metadata": {},
   "cell_type": "markdown",
   "source": "# Save Testing Stats",
   "id": "2a019335a5bbd122"
  },
  {
   "metadata": {
    "ExecuteTime": {
     "end_time": "2025-04-15T16:45:55.819948Z",
     "start_time": "2025-04-15T16:45:55.808652Z"
    }
   },
   "cell_type": "code",
   "source": [
    "import pandas as pd\n",
    "import pickle\n",
    "\n",
    "testing_results = pd.DataFrame(testing_results)\n",
    "with open('testing_results.pkl', 'wb') as f:\n",
    "    pickle.dump(testing_results, f)"
   ],
   "id": "49b6d8935861a390",
   "outputs": [],
   "execution_count": 23
  },
  {
   "metadata": {
    "ExecuteTime": {
     "end_time": "2025-04-15T16:45:55.848463Z",
     "start_time": "2025-04-15T16:45:55.829209Z"
    }
   },
   "cell_type": "code",
   "source": "testing_results",
   "id": "f81d4716ac247c5a",
   "outputs": [
    {
     "data": {
      "text/plain": [
       "   model_type  train_data_size  prediction_horizon  accuracy  precision  \\\n",
       "0    CNN_LSTM                1                   0  0.566191   0.458958   \n",
       "1    CNN_LSTM                1                   2  0.379915   0.380346   \n",
       "2    CNN_LSTM                1                   4  0.523683   0.516821   \n",
       "3    CNN_LSTM                3                   0  0.596820   0.495624   \n",
       "4    CNN_LSTM                3                   2  0.605758   0.610327   \n",
       "5    CNN_LSTM                3                   4  0.661250   0.661412   \n",
       "6    CNN_LSTM                5                   0  0.612629   0.523285   \n",
       "7    CNN_LSTM                5                   2  0.685146   0.690854   \n",
       "8    CNN_LSTM                5                   4  0.726705   0.726812   \n",
       "9    CNN_LSTM                8                   0  0.791139   0.789718   \n",
       "10   CNN_LSTM                8                   2  0.758435   0.756418   \n",
       "11   CNN_LSTM                8                   4  0.770092   0.769937   \n",
       "12        CNN                1                   0  0.592120   0.350606   \n",
       "13        CNN                1                   2  0.404329   0.280551   \n",
       "14        CNN                1                   4  0.423260   0.238435   \n",
       "15        CNN                3                   0  0.598689   0.358429   \n",
       "16        CNN                3                   2  0.411683   0.267160   \n",
       "17        CNN                3                   4  0.413715   0.416794   \n",
       "18        CNN                5                   0  0.613525   0.376413   \n",
       "19        CNN                5                   2  0.447597   0.420644   \n",
       "20        CNN                5                   4  0.411415   0.427557   \n",
       "21        CNN                8                   0  0.703608   0.543136   \n",
       "22        CNN                8                   2  0.558140   0.461980   \n",
       "23        CNN                8                   4  0.368944   0.381033   \n",
       "24       LSTM                1                   0  0.592120   0.350606   \n",
       "25       LSTM                1                   2  0.396496   0.374216   \n",
       "26       LSTM                1                   4  0.418064   0.437598   \n",
       "27       LSTM                3                   0  0.598689   0.358429   \n",
       "28       LSTM                3                   2  0.384682   0.378623   \n",
       "29       LSTM                3                   4  0.452957   0.440252   \n",
       "30       LSTM                5                   0  0.617392   0.458677   \n",
       "31       LSTM                5                   2  0.455176   0.427505   \n",
       "32       LSTM                5                   4  0.503188   0.479344   \n",
       "33       LSTM                8                   0  0.705606   0.620090   \n",
       "34       LSTM                8                   2  0.633265   0.611753   \n",
       "35       LSTM                8                   4  0.552897   0.568487   \n",
       "36        MLP                1                   0  0.586245   0.437870   \n",
       "37        MLP                1                   2  0.428508   0.417208   \n",
       "38        MLP                1                   4  0.483393   0.446216   \n",
       "39        MLP                3                   0  0.586421   0.467763   \n",
       "40        MLP                3                   2  0.467528   0.470376   \n",
       "41        MLP                3                   4  0.549968   0.525070   \n",
       "42        MLP                5                   0  0.611963   0.517927   \n",
       "43        MLP                5                   2  0.493816   0.492109   \n",
       "44        MLP                5                   4  0.563772   0.558650   \n",
       "45        MLP                8                   0  0.702591   0.540513   \n",
       "46        MLP                8                   2  0.618574   0.596955   \n",
       "47        MLP                8                   4  0.512953   0.550304   \n",
       "\n",
       "      recall        f1  \n",
       "0   0.566191  0.468102  \n",
       "1   0.379915  0.379621  \n",
       "2   0.523683  0.509413  \n",
       "3   0.596820  0.473716  \n",
       "4   0.605758  0.585969  \n",
       "5   0.661250  0.661034  \n",
       "6   0.612629  0.504560  \n",
       "7   0.685146  0.675011  \n",
       "8   0.726705  0.726628  \n",
       "9   0.791139  0.757995  \n",
       "10  0.758435  0.745148  \n",
       "11  0.770092  0.769580  \n",
       "12  0.592120  0.440426  \n",
       "13  0.404329  0.327308  \n",
       "14  0.423260  0.253199  \n",
       "15  0.598689  0.448403  \n",
       "16  0.411683  0.301878  \n",
       "17  0.413715  0.351238  \n",
       "18  0.613525  0.466572  \n",
       "19  0.447597  0.348174  \n",
       "20  0.411415  0.371368  \n",
       "21  0.703608  0.582899  \n",
       "22  0.558140  0.450608  \n",
       "23  0.368944  0.323337  \n",
       "24  0.592120  0.440426  \n",
       "25  0.396496  0.368222  \n",
       "26  0.418064  0.375112  \n",
       "27  0.598689  0.448403  \n",
       "28  0.384682  0.373507  \n",
       "29  0.452957  0.422813  \n",
       "30  0.617392  0.487798  \n",
       "31  0.455176  0.413664  \n",
       "32  0.503188  0.446451  \n",
       "33  0.705606  0.595935  \n",
       "34  0.633265  0.596862  \n",
       "35  0.552897  0.547882  \n",
       "36  0.586245  0.449985  \n",
       "37  0.428508  0.406800  \n",
       "38  0.483393  0.436096  \n",
       "39  0.586421  0.460384  \n",
       "40  0.467528  0.459488  \n",
       "41  0.549968  0.511918  \n",
       "42  0.611963  0.499920  \n",
       "43  0.493816  0.482576  \n",
       "44  0.563772  0.544299  \n",
       "45  0.702591  0.589342  \n",
       "46  0.618574  0.580858  \n",
       "47  0.512953  0.496609  "
      ],
      "text/html": [
       "<div>\n",
       "<style scoped>\n",
       "    .dataframe tbody tr th:only-of-type {\n",
       "        vertical-align: middle;\n",
       "    }\n",
       "\n",
       "    .dataframe tbody tr th {\n",
       "        vertical-align: top;\n",
       "    }\n",
       "\n",
       "    .dataframe thead th {\n",
       "        text-align: right;\n",
       "    }\n",
       "</style>\n",
       "<table border=\"1\" class=\"dataframe\">\n",
       "  <thead>\n",
       "    <tr style=\"text-align: right;\">\n",
       "      <th></th>\n",
       "      <th>model_type</th>\n",
       "      <th>train_data_size</th>\n",
       "      <th>prediction_horizon</th>\n",
       "      <th>accuracy</th>\n",
       "      <th>precision</th>\n",
       "      <th>recall</th>\n",
       "      <th>f1</th>\n",
       "    </tr>\n",
       "  </thead>\n",
       "  <tbody>\n",
       "    <tr>\n",
       "      <th>0</th>\n",
       "      <td>CNN_LSTM</td>\n",
       "      <td>1</td>\n",
       "      <td>0</td>\n",
       "      <td>0.566191</td>\n",
       "      <td>0.458958</td>\n",
       "      <td>0.566191</td>\n",
       "      <td>0.468102</td>\n",
       "    </tr>\n",
       "    <tr>\n",
       "      <th>1</th>\n",
       "      <td>CNN_LSTM</td>\n",
       "      <td>1</td>\n",
       "      <td>2</td>\n",
       "      <td>0.379915</td>\n",
       "      <td>0.380346</td>\n",
       "      <td>0.379915</td>\n",
       "      <td>0.379621</td>\n",
       "    </tr>\n",
       "    <tr>\n",
       "      <th>2</th>\n",
       "      <td>CNN_LSTM</td>\n",
       "      <td>1</td>\n",
       "      <td>4</td>\n",
       "      <td>0.523683</td>\n",
       "      <td>0.516821</td>\n",
       "      <td>0.523683</td>\n",
       "      <td>0.509413</td>\n",
       "    </tr>\n",
       "    <tr>\n",
       "      <th>3</th>\n",
       "      <td>CNN_LSTM</td>\n",
       "      <td>3</td>\n",
       "      <td>0</td>\n",
       "      <td>0.596820</td>\n",
       "      <td>0.495624</td>\n",
       "      <td>0.596820</td>\n",
       "      <td>0.473716</td>\n",
       "    </tr>\n",
       "    <tr>\n",
       "      <th>4</th>\n",
       "      <td>CNN_LSTM</td>\n",
       "      <td>3</td>\n",
       "      <td>2</td>\n",
       "      <td>0.605758</td>\n",
       "      <td>0.610327</td>\n",
       "      <td>0.605758</td>\n",
       "      <td>0.585969</td>\n",
       "    </tr>\n",
       "    <tr>\n",
       "      <th>5</th>\n",
       "      <td>CNN_LSTM</td>\n",
       "      <td>3</td>\n",
       "      <td>4</td>\n",
       "      <td>0.661250</td>\n",
       "      <td>0.661412</td>\n",
       "      <td>0.661250</td>\n",
       "      <td>0.661034</td>\n",
       "    </tr>\n",
       "    <tr>\n",
       "      <th>6</th>\n",
       "      <td>CNN_LSTM</td>\n",
       "      <td>5</td>\n",
       "      <td>0</td>\n",
       "      <td>0.612629</td>\n",
       "      <td>0.523285</td>\n",
       "      <td>0.612629</td>\n",
       "      <td>0.504560</td>\n",
       "    </tr>\n",
       "    <tr>\n",
       "      <th>7</th>\n",
       "      <td>CNN_LSTM</td>\n",
       "      <td>5</td>\n",
       "      <td>2</td>\n",
       "      <td>0.685146</td>\n",
       "      <td>0.690854</td>\n",
       "      <td>0.685146</td>\n",
       "      <td>0.675011</td>\n",
       "    </tr>\n",
       "    <tr>\n",
       "      <th>8</th>\n",
       "      <td>CNN_LSTM</td>\n",
       "      <td>5</td>\n",
       "      <td>4</td>\n",
       "      <td>0.726705</td>\n",
       "      <td>0.726812</td>\n",
       "      <td>0.726705</td>\n",
       "      <td>0.726628</td>\n",
       "    </tr>\n",
       "    <tr>\n",
       "      <th>9</th>\n",
       "      <td>CNN_LSTM</td>\n",
       "      <td>8</td>\n",
       "      <td>0</td>\n",
       "      <td>0.791139</td>\n",
       "      <td>0.789718</td>\n",
       "      <td>0.791139</td>\n",
       "      <td>0.757995</td>\n",
       "    </tr>\n",
       "    <tr>\n",
       "      <th>10</th>\n",
       "      <td>CNN_LSTM</td>\n",
       "      <td>8</td>\n",
       "      <td>2</td>\n",
       "      <td>0.758435</td>\n",
       "      <td>0.756418</td>\n",
       "      <td>0.758435</td>\n",
       "      <td>0.745148</td>\n",
       "    </tr>\n",
       "    <tr>\n",
       "      <th>11</th>\n",
       "      <td>CNN_LSTM</td>\n",
       "      <td>8</td>\n",
       "      <td>4</td>\n",
       "      <td>0.770092</td>\n",
       "      <td>0.769937</td>\n",
       "      <td>0.770092</td>\n",
       "      <td>0.769580</td>\n",
       "    </tr>\n",
       "    <tr>\n",
       "      <th>12</th>\n",
       "      <td>CNN</td>\n",
       "      <td>1</td>\n",
       "      <td>0</td>\n",
       "      <td>0.592120</td>\n",
       "      <td>0.350606</td>\n",
       "      <td>0.592120</td>\n",
       "      <td>0.440426</td>\n",
       "    </tr>\n",
       "    <tr>\n",
       "      <th>13</th>\n",
       "      <td>CNN</td>\n",
       "      <td>1</td>\n",
       "      <td>2</td>\n",
       "      <td>0.404329</td>\n",
       "      <td>0.280551</td>\n",
       "      <td>0.404329</td>\n",
       "      <td>0.327308</td>\n",
       "    </tr>\n",
       "    <tr>\n",
       "      <th>14</th>\n",
       "      <td>CNN</td>\n",
       "      <td>1</td>\n",
       "      <td>4</td>\n",
       "      <td>0.423260</td>\n",
       "      <td>0.238435</td>\n",
       "      <td>0.423260</td>\n",
       "      <td>0.253199</td>\n",
       "    </tr>\n",
       "    <tr>\n",
       "      <th>15</th>\n",
       "      <td>CNN</td>\n",
       "      <td>3</td>\n",
       "      <td>0</td>\n",
       "      <td>0.598689</td>\n",
       "      <td>0.358429</td>\n",
       "      <td>0.598689</td>\n",
       "      <td>0.448403</td>\n",
       "    </tr>\n",
       "    <tr>\n",
       "      <th>16</th>\n",
       "      <td>CNN</td>\n",
       "      <td>3</td>\n",
       "      <td>2</td>\n",
       "      <td>0.411683</td>\n",
       "      <td>0.267160</td>\n",
       "      <td>0.411683</td>\n",
       "      <td>0.301878</td>\n",
       "    </tr>\n",
       "    <tr>\n",
       "      <th>17</th>\n",
       "      <td>CNN</td>\n",
       "      <td>3</td>\n",
       "      <td>4</td>\n",
       "      <td>0.413715</td>\n",
       "      <td>0.416794</td>\n",
       "      <td>0.413715</td>\n",
       "      <td>0.351238</td>\n",
       "    </tr>\n",
       "    <tr>\n",
       "      <th>18</th>\n",
       "      <td>CNN</td>\n",
       "      <td>5</td>\n",
       "      <td>0</td>\n",
       "      <td>0.613525</td>\n",
       "      <td>0.376413</td>\n",
       "      <td>0.613525</td>\n",
       "      <td>0.466572</td>\n",
       "    </tr>\n",
       "    <tr>\n",
       "      <th>19</th>\n",
       "      <td>CNN</td>\n",
       "      <td>5</td>\n",
       "      <td>2</td>\n",
       "      <td>0.447597</td>\n",
       "      <td>0.420644</td>\n",
       "      <td>0.447597</td>\n",
       "      <td>0.348174</td>\n",
       "    </tr>\n",
       "    <tr>\n",
       "      <th>20</th>\n",
       "      <td>CNN</td>\n",
       "      <td>5</td>\n",
       "      <td>4</td>\n",
       "      <td>0.411415</td>\n",
       "      <td>0.427557</td>\n",
       "      <td>0.411415</td>\n",
       "      <td>0.371368</td>\n",
       "    </tr>\n",
       "    <tr>\n",
       "      <th>21</th>\n",
       "      <td>CNN</td>\n",
       "      <td>8</td>\n",
       "      <td>0</td>\n",
       "      <td>0.703608</td>\n",
       "      <td>0.543136</td>\n",
       "      <td>0.703608</td>\n",
       "      <td>0.582899</td>\n",
       "    </tr>\n",
       "    <tr>\n",
       "      <th>22</th>\n",
       "      <td>CNN</td>\n",
       "      <td>8</td>\n",
       "      <td>2</td>\n",
       "      <td>0.558140</td>\n",
       "      <td>0.461980</td>\n",
       "      <td>0.558140</td>\n",
       "      <td>0.450608</td>\n",
       "    </tr>\n",
       "    <tr>\n",
       "      <th>23</th>\n",
       "      <td>CNN</td>\n",
       "      <td>8</td>\n",
       "      <td>4</td>\n",
       "      <td>0.368944</td>\n",
       "      <td>0.381033</td>\n",
       "      <td>0.368944</td>\n",
       "      <td>0.323337</td>\n",
       "    </tr>\n",
       "    <tr>\n",
       "      <th>24</th>\n",
       "      <td>LSTM</td>\n",
       "      <td>1</td>\n",
       "      <td>0</td>\n",
       "      <td>0.592120</td>\n",
       "      <td>0.350606</td>\n",
       "      <td>0.592120</td>\n",
       "      <td>0.440426</td>\n",
       "    </tr>\n",
       "    <tr>\n",
       "      <th>25</th>\n",
       "      <td>LSTM</td>\n",
       "      <td>1</td>\n",
       "      <td>2</td>\n",
       "      <td>0.396496</td>\n",
       "      <td>0.374216</td>\n",
       "      <td>0.396496</td>\n",
       "      <td>0.368222</td>\n",
       "    </tr>\n",
       "    <tr>\n",
       "      <th>26</th>\n",
       "      <td>LSTM</td>\n",
       "      <td>1</td>\n",
       "      <td>4</td>\n",
       "      <td>0.418064</td>\n",
       "      <td>0.437598</td>\n",
       "      <td>0.418064</td>\n",
       "      <td>0.375112</td>\n",
       "    </tr>\n",
       "    <tr>\n",
       "      <th>27</th>\n",
       "      <td>LSTM</td>\n",
       "      <td>3</td>\n",
       "      <td>0</td>\n",
       "      <td>0.598689</td>\n",
       "      <td>0.358429</td>\n",
       "      <td>0.598689</td>\n",
       "      <td>0.448403</td>\n",
       "    </tr>\n",
       "    <tr>\n",
       "      <th>28</th>\n",
       "      <td>LSTM</td>\n",
       "      <td>3</td>\n",
       "      <td>2</td>\n",
       "      <td>0.384682</td>\n",
       "      <td>0.378623</td>\n",
       "      <td>0.384682</td>\n",
       "      <td>0.373507</td>\n",
       "    </tr>\n",
       "    <tr>\n",
       "      <th>29</th>\n",
       "      <td>LSTM</td>\n",
       "      <td>3</td>\n",
       "      <td>4</td>\n",
       "      <td>0.452957</td>\n",
       "      <td>0.440252</td>\n",
       "      <td>0.452957</td>\n",
       "      <td>0.422813</td>\n",
       "    </tr>\n",
       "    <tr>\n",
       "      <th>30</th>\n",
       "      <td>LSTM</td>\n",
       "      <td>5</td>\n",
       "      <td>0</td>\n",
       "      <td>0.617392</td>\n",
       "      <td>0.458677</td>\n",
       "      <td>0.617392</td>\n",
       "      <td>0.487798</td>\n",
       "    </tr>\n",
       "    <tr>\n",
       "      <th>31</th>\n",
       "      <td>LSTM</td>\n",
       "      <td>5</td>\n",
       "      <td>2</td>\n",
       "      <td>0.455176</td>\n",
       "      <td>0.427505</td>\n",
       "      <td>0.455176</td>\n",
       "      <td>0.413664</td>\n",
       "    </tr>\n",
       "    <tr>\n",
       "      <th>32</th>\n",
       "      <td>LSTM</td>\n",
       "      <td>5</td>\n",
       "      <td>4</td>\n",
       "      <td>0.503188</td>\n",
       "      <td>0.479344</td>\n",
       "      <td>0.503188</td>\n",
       "      <td>0.446451</td>\n",
       "    </tr>\n",
       "    <tr>\n",
       "      <th>33</th>\n",
       "      <td>LSTM</td>\n",
       "      <td>8</td>\n",
       "      <td>0</td>\n",
       "      <td>0.705606</td>\n",
       "      <td>0.620090</td>\n",
       "      <td>0.705606</td>\n",
       "      <td>0.595935</td>\n",
       "    </tr>\n",
       "    <tr>\n",
       "      <th>34</th>\n",
       "      <td>LSTM</td>\n",
       "      <td>8</td>\n",
       "      <td>2</td>\n",
       "      <td>0.633265</td>\n",
       "      <td>0.611753</td>\n",
       "      <td>0.633265</td>\n",
       "      <td>0.596862</td>\n",
       "    </tr>\n",
       "    <tr>\n",
       "      <th>35</th>\n",
       "      <td>LSTM</td>\n",
       "      <td>8</td>\n",
       "      <td>4</td>\n",
       "      <td>0.552897</td>\n",
       "      <td>0.568487</td>\n",
       "      <td>0.552897</td>\n",
       "      <td>0.547882</td>\n",
       "    </tr>\n",
       "    <tr>\n",
       "      <th>36</th>\n",
       "      <td>MLP</td>\n",
       "      <td>1</td>\n",
       "      <td>0</td>\n",
       "      <td>0.586245</td>\n",
       "      <td>0.437870</td>\n",
       "      <td>0.586245</td>\n",
       "      <td>0.449985</td>\n",
       "    </tr>\n",
       "    <tr>\n",
       "      <th>37</th>\n",
       "      <td>MLP</td>\n",
       "      <td>1</td>\n",
       "      <td>2</td>\n",
       "      <td>0.428508</td>\n",
       "      <td>0.417208</td>\n",
       "      <td>0.428508</td>\n",
       "      <td>0.406800</td>\n",
       "    </tr>\n",
       "    <tr>\n",
       "      <th>38</th>\n",
       "      <td>MLP</td>\n",
       "      <td>1</td>\n",
       "      <td>4</td>\n",
       "      <td>0.483393</td>\n",
       "      <td>0.446216</td>\n",
       "      <td>0.483393</td>\n",
       "      <td>0.436096</td>\n",
       "    </tr>\n",
       "    <tr>\n",
       "      <th>39</th>\n",
       "      <td>MLP</td>\n",
       "      <td>3</td>\n",
       "      <td>0</td>\n",
       "      <td>0.586421</td>\n",
       "      <td>0.467763</td>\n",
       "      <td>0.586421</td>\n",
       "      <td>0.460384</td>\n",
       "    </tr>\n",
       "    <tr>\n",
       "      <th>40</th>\n",
       "      <td>MLP</td>\n",
       "      <td>3</td>\n",
       "      <td>2</td>\n",
       "      <td>0.467528</td>\n",
       "      <td>0.470376</td>\n",
       "      <td>0.467528</td>\n",
       "      <td>0.459488</td>\n",
       "    </tr>\n",
       "    <tr>\n",
       "      <th>41</th>\n",
       "      <td>MLP</td>\n",
       "      <td>3</td>\n",
       "      <td>4</td>\n",
       "      <td>0.549968</td>\n",
       "      <td>0.525070</td>\n",
       "      <td>0.549968</td>\n",
       "      <td>0.511918</td>\n",
       "    </tr>\n",
       "    <tr>\n",
       "      <th>42</th>\n",
       "      <td>MLP</td>\n",
       "      <td>5</td>\n",
       "      <td>0</td>\n",
       "      <td>0.611963</td>\n",
       "      <td>0.517927</td>\n",
       "      <td>0.611963</td>\n",
       "      <td>0.499920</td>\n",
       "    </tr>\n",
       "    <tr>\n",
       "      <th>43</th>\n",
       "      <td>MLP</td>\n",
       "      <td>5</td>\n",
       "      <td>2</td>\n",
       "      <td>0.493816</td>\n",
       "      <td>0.492109</td>\n",
       "      <td>0.493816</td>\n",
       "      <td>0.482576</td>\n",
       "    </tr>\n",
       "    <tr>\n",
       "      <th>44</th>\n",
       "      <td>MLP</td>\n",
       "      <td>5</td>\n",
       "      <td>4</td>\n",
       "      <td>0.563772</td>\n",
       "      <td>0.558650</td>\n",
       "      <td>0.563772</td>\n",
       "      <td>0.544299</td>\n",
       "    </tr>\n",
       "    <tr>\n",
       "      <th>45</th>\n",
       "      <td>MLP</td>\n",
       "      <td>8</td>\n",
       "      <td>0</td>\n",
       "      <td>0.702591</td>\n",
       "      <td>0.540513</td>\n",
       "      <td>0.702591</td>\n",
       "      <td>0.589342</td>\n",
       "    </tr>\n",
       "    <tr>\n",
       "      <th>46</th>\n",
       "      <td>MLP</td>\n",
       "      <td>8</td>\n",
       "      <td>2</td>\n",
       "      <td>0.618574</td>\n",
       "      <td>0.596955</td>\n",
       "      <td>0.618574</td>\n",
       "      <td>0.580858</td>\n",
       "    </tr>\n",
       "    <tr>\n",
       "      <th>47</th>\n",
       "      <td>MLP</td>\n",
       "      <td>8</td>\n",
       "      <td>4</td>\n",
       "      <td>0.512953</td>\n",
       "      <td>0.550304</td>\n",
       "      <td>0.512953</td>\n",
       "      <td>0.496609</td>\n",
       "    </tr>\n",
       "  </tbody>\n",
       "</table>\n",
       "</div>"
      ]
     },
     "execution_count": 24,
     "metadata": {},
     "output_type": "execute_result"
    }
   ],
   "execution_count": 24
  },
  {
   "metadata": {
    "ExecuteTime": {
     "end_time": "2025-04-15T16:45:55.936793Z",
     "start_time": "2025-04-15T16:45:55.934180Z"
    }
   },
   "cell_type": "code",
   "source": "",
   "id": "f5e2f62dbf7b6da5",
   "outputs": [],
   "execution_count": null
  }
 ],
 "metadata": {
  "kernelspec": {
   "display_name": "Python 3",
   "language": "python",
   "name": "python3"
  },
  "language_info": {
   "codemirror_mode": {
    "name": "ipython",
    "version": 2
   },
   "file_extension": ".py",
   "mimetype": "text/x-python",
   "name": "python",
   "nbconvert_exporter": "python",
   "pygments_lexer": "ipython2",
   "version": "2.7.6"
  }
 },
 "nbformat": 4,
 "nbformat_minor": 5
}
