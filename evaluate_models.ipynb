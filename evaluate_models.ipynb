{
 "cells": [
  {
   "cell_type": "code",
   "execution_count": null,
   "id": "initial_id",
   "metadata": {
    "ExecuteTime": {
     "end_time": "2025-04-16T20:21:47.594871Z",
     "start_time": "2025-04-16T20:21:43.732255Z"
    },
    "collapsed": true
   },
   "outputs": [],
   "source": [
    "# Import libraries, models, utilities, and dataset loader\n",
    "from models.cnn_lstm import CNN_LSTM\n",
    "from models.cnn import CNN\n",
    "from models.lstm import LSTM\n",
    "from models.mlp import MLP\n",
    "from utils import load_model, DATA_DIR, BATCH_SIZE, NUM_WORKER\n",
    "from loader.fi_loader import FIDataset\n",
    "\n",
    "import torch\n",
    "from torch.utils.data import DataLoader\n",
    "\n",
    "import os\n",
    "from itertools import product\n",
    "from tqdm import tqdm\n",
    "\n",
    "from sklearn.metrics import accuracy_score, precision_score, recall_score, f1_score"
   ]
  },
  {
   "cell_type": "markdown",
   "id": "ccdfab40af878431",
   "metadata": {},
   "source": [
    "# Generate Testing Statistics"
   ]
  },
  {
   "cell_type": "code",
   "execution_count": 2,
   "id": "a6b769ee11fe56e4",
   "metadata": {
    "ExecuteTime": {
     "end_time": "2025-04-16T20:21:47.610310Z",
     "start_time": "2025-04-16T20:21:47.605316Z"
    }
   },
   "outputs": [],
   "source": [
    "testing_results = {\n",
    "    'model_type': [],\n",
    "    'train_data_size': [],\n",
    "    'prediction_horizon': [],\n",
    "    'accuracy': [],\n",
    "    'precision': [],\n",
    "    'recall': [],\n",
    "    'f1': []\n",
    "}"
   ]
  },
  {
   "cell_type": "code",
   "execution_count": null,
   "id": "5774effc13c0ed6c",
   "metadata": {
    "ExecuteTime": {
     "end_time": "2025-04-16T20:31:19.196181Z",
     "start_time": "2025-04-16T20:21:47.618826Z"
    }
   },
   "outputs": [
    {
     "name": "stderr",
     "output_type": "stream",
     "text": [
      "0it [00:00, ?it/s]"
     ]
    },
    {
     "name": "stdout",
     "output_type": "stream",
     "text": [
      ".\\trained_models\\CNN_LSTM\\CNN_LSTM_Zscore_CF1_pred_0.pth\n"
     ]
    },
    {
     "name": "stderr",
     "output_type": "stream",
     "text": [
      "1it [00:14, 14.83s/it]"
     ]
    },
    {
     "name": "stdout",
     "output_type": "stream",
     "text": [
      ".\\trained_models\\CNN_LSTM\\CNN_LSTM_Zscore_CF1_pred_2.pth\n"
     ]
    },
    {
     "name": "stderr",
     "output_type": "stream",
     "text": [
      "2it [00:28, 14.08s/it]"
     ]
    },
    {
     "name": "stdout",
     "output_type": "stream",
     "text": [
      ".\\trained_models\\CNN_LSTM\\CNN_LSTM_Zscore_CF1_pred_4.pth\n"
     ]
    },
    {
     "name": "stderr",
     "output_type": "stream",
     "text": [
      "3it [00:40, 13.19s/it]"
     ]
    },
    {
     "name": "stdout",
     "output_type": "stream",
     "text": [
      ".\\trained_models\\CNN_LSTM\\CNN_LSTM_Zscore_CF3_pred_0.pth\n"
     ]
    },
    {
     "name": "stderr",
     "output_type": "stream",
     "text": [
      "4it [00:52, 12.56s/it]"
     ]
    },
    {
     "name": "stdout",
     "output_type": "stream",
     "text": [
      ".\\trained_models\\CNN_LSTM\\CNN_LSTM_Zscore_CF3_pred_2.pth\n"
     ]
    },
    {
     "name": "stderr",
     "output_type": "stream",
     "text": [
      "5it [01:04, 12.42s/it]"
     ]
    },
    {
     "name": "stdout",
     "output_type": "stream",
     "text": [
      ".\\trained_models\\CNN_LSTM\\CNN_LSTM_Zscore_CF3_pred_4.pth\n"
     ]
    },
    {
     "name": "stderr",
     "output_type": "stream",
     "text": [
      "6it [01:15, 12.16s/it]"
     ]
    },
    {
     "name": "stdout",
     "output_type": "stream",
     "text": [
      ".\\trained_models\\CNN_LSTM\\CNN_LSTM_Zscore_CF5_pred_0.pth\n"
     ]
    },
    {
     "name": "stderr",
     "output_type": "stream",
     "text": [
      "7it [01:28, 12.33s/it]"
     ]
    },
    {
     "name": "stdout",
     "output_type": "stream",
     "text": [
      ".\\trained_models\\CNN_LSTM\\CNN_LSTM_Zscore_CF5_pred_2.pth\n"
     ]
    },
    {
     "name": "stderr",
     "output_type": "stream",
     "text": [
      "8it [01:40, 12.28s/it]"
     ]
    },
    {
     "name": "stdout",
     "output_type": "stream",
     "text": [
      ".\\trained_models\\CNN_LSTM\\CNN_LSTM_Zscore_CF5_pred_4.pth\n"
     ]
    },
    {
     "name": "stderr",
     "output_type": "stream",
     "text": [
      "9it [01:52, 12.24s/it]"
     ]
    },
    {
     "name": "stdout",
     "output_type": "stream",
     "text": [
      ".\\trained_models\\CNN_LSTM\\CNN_LSTM_Zscore_CF8_pred_0.pth\n"
     ]
    },
    {
     "name": "stderr",
     "output_type": "stream",
     "text": [
      "10it [02:08, 13.22s/it]"
     ]
    },
    {
     "name": "stdout",
     "output_type": "stream",
     "text": [
      ".\\trained_models\\CNN_LSTM\\CNN_LSTM_Zscore_CF8_pred_2.pth\n"
     ]
    },
    {
     "name": "stderr",
     "output_type": "stream",
     "text": [
      "11it [02:23, 13.86s/it]"
     ]
    },
    {
     "name": "stdout",
     "output_type": "stream",
     "text": [
      ".\\trained_models\\CNN_LSTM\\CNN_LSTM_Zscore_CF8_pred_4.pth\n"
     ]
    },
    {
     "name": "stderr",
     "output_type": "stream",
     "text": [
      "12it [02:38, 14.26s/it]"
     ]
    },
    {
     "name": "stdout",
     "output_type": "stream",
     "text": [
      ".\\trained_models\\CNN\\CNN_Zscore_CF1_pred_0.pth\n"
     ]
    },
    {
     "name": "stderr",
     "output_type": "stream",
     "text": [
      "13it [02:49, 13.21s/it]"
     ]
    },
    {
     "name": "stdout",
     "output_type": "stream",
     "text": [
      ".\\trained_models\\CNN\\CNN_Zscore_CF1_pred_2.pth\n"
     ]
    },
    {
     "name": "stderr",
     "output_type": "stream",
     "text": [
      "14it [03:00, 12.48s/it]"
     ]
    },
    {
     "name": "stdout",
     "output_type": "stream",
     "text": [
      ".\\trained_models\\CNN\\CNN_Zscore_CF1_pred_4.pth\n"
     ]
    },
    {
     "name": "stderr",
     "output_type": "stream",
     "text": [
      "15it [03:11, 11.95s/it]"
     ]
    },
    {
     "name": "stdout",
     "output_type": "stream",
     "text": [
      ".\\trained_models\\CNN\\CNN_Zscore_CF3_pred_0.pth\n"
     ]
    },
    {
     "name": "stderr",
     "output_type": "stream",
     "text": [
      "16it [03:21, 11.51s/it]"
     ]
    },
    {
     "name": "stdout",
     "output_type": "stream",
     "text": [
      ".\\trained_models\\CNN\\CNN_Zscore_CF3_pred_2.pth\n"
     ]
    },
    {
     "name": "stderr",
     "output_type": "stream",
     "text": [
      "17it [03:32, 11.24s/it]"
     ]
    },
    {
     "name": "stdout",
     "output_type": "stream",
     "text": [
      ".\\trained_models\\CNN\\CNN_Zscore_CF3_pred_4.pth\n"
     ]
    },
    {
     "name": "stderr",
     "output_type": "stream",
     "text": [
      "18it [03:42, 11.02s/it]"
     ]
    },
    {
     "name": "stdout",
     "output_type": "stream",
     "text": [
      ".\\trained_models\\CNN\\CNN_Zscore_CF5_pred_0.pth\n"
     ]
    },
    {
     "name": "stderr",
     "output_type": "stream",
     "text": [
      "19it [03:53, 10.95s/it]"
     ]
    },
    {
     "name": "stdout",
     "output_type": "stream",
     "text": [
      ".\\trained_models\\CNN\\CNN_Zscore_CF5_pred_2.pth\n"
     ]
    },
    {
     "name": "stderr",
     "output_type": "stream",
     "text": [
      "20it [04:04, 10.94s/it]"
     ]
    },
    {
     "name": "stdout",
     "output_type": "stream",
     "text": [
      ".\\trained_models\\CNN\\CNN_Zscore_CF5_pred_4.pth\n"
     ]
    },
    {
     "name": "stderr",
     "output_type": "stream",
     "text": [
      "21it [04:15, 10.91s/it]"
     ]
    },
    {
     "name": "stdout",
     "output_type": "stream",
     "text": [
      ".\\trained_models\\CNN\\CNN_Zscore_CF8_pred_0.pth\n"
     ]
    },
    {
     "name": "stderr",
     "output_type": "stream",
     "text": [
      "22it [04:28, 11.74s/it]"
     ]
    },
    {
     "name": "stdout",
     "output_type": "stream",
     "text": [
      ".\\trained_models\\CNN\\CNN_Zscore_CF8_pred_2.pth\n"
     ]
    },
    {
     "name": "stderr",
     "output_type": "stream",
     "text": [
      "23it [04:42, 12.25s/it]"
     ]
    },
    {
     "name": "stdout",
     "output_type": "stream",
     "text": [
      ".\\trained_models\\CNN\\CNN_Zscore_CF8_pred_4.pth\n"
     ]
    },
    {
     "name": "stderr",
     "output_type": "stream",
     "text": [
      "24it [04:55, 12.62s/it]"
     ]
    },
    {
     "name": "stdout",
     "output_type": "stream",
     "text": [
      ".\\trained_models\\LSTM\\LSTM_Zscore_CF1_pred_0.pth\n"
     ]
    },
    {
     "name": "stderr",
     "output_type": "stream",
     "text": [
      "25it [05:06, 12.12s/it]"
     ]
    },
    {
     "name": "stdout",
     "output_type": "stream",
     "text": [
      ".\\trained_models\\LSTM\\LSTM_Zscore_CF1_pred_2.pth\n"
     ]
    },
    {
     "name": "stderr",
     "output_type": "stream",
     "text": [
      "26it [05:17, 11.72s/it]"
     ]
    },
    {
     "name": "stdout",
     "output_type": "stream",
     "text": [
      ".\\trained_models\\LSTM\\LSTM_Zscore_CF1_pred_4.pth\n"
     ]
    },
    {
     "name": "stderr",
     "output_type": "stream",
     "text": [
      "27it [05:28, 11.44s/it]"
     ]
    },
    {
     "name": "stdout",
     "output_type": "stream",
     "text": [
      ".\\trained_models\\LSTM\\LSTM_Zscore_CF3_pred_0.pth\n"
     ]
    },
    {
     "name": "stderr",
     "output_type": "stream",
     "text": [
      "28it [05:38, 11.13s/it]"
     ]
    },
    {
     "name": "stdout",
     "output_type": "stream",
     "text": [
      ".\\trained_models\\LSTM\\LSTM_Zscore_CF3_pred_2.pth\n"
     ]
    },
    {
     "name": "stderr",
     "output_type": "stream",
     "text": [
      "29it [05:49, 10.95s/it]"
     ]
    },
    {
     "name": "stdout",
     "output_type": "stream",
     "text": [
      ".\\trained_models\\LSTM\\LSTM_Zscore_CF3_pred_4.pth\n"
     ]
    },
    {
     "name": "stderr",
     "output_type": "stream",
     "text": [
      "30it [05:59, 10.79s/it]"
     ]
    },
    {
     "name": "stdout",
     "output_type": "stream",
     "text": [
      ".\\trained_models\\LSTM\\LSTM_Zscore_CF5_pred_0.pth\n"
     ]
    },
    {
     "name": "stderr",
     "output_type": "stream",
     "text": [
      "31it [06:10, 10.81s/it]"
     ]
    },
    {
     "name": "stdout",
     "output_type": "stream",
     "text": [
      ".\\trained_models\\LSTM\\LSTM_Zscore_CF5_pred_2.pth\n"
     ]
    },
    {
     "name": "stderr",
     "output_type": "stream",
     "text": [
      "32it [06:21, 10.81s/it]"
     ]
    },
    {
     "name": "stdout",
     "output_type": "stream",
     "text": [
      ".\\trained_models\\LSTM\\LSTM_Zscore_CF5_pred_4.pth\n"
     ]
    },
    {
     "name": "stderr",
     "output_type": "stream",
     "text": [
      "33it [06:32, 10.87s/it]"
     ]
    },
    {
     "name": "stdout",
     "output_type": "stream",
     "text": [
      ".\\trained_models\\LSTM\\LSTM_Zscore_CF8_pred_0.pth\n"
     ]
    },
    {
     "name": "stderr",
     "output_type": "stream",
     "text": [
      "34it [06:46, 11.70s/it]"
     ]
    },
    {
     "name": "stdout",
     "output_type": "stream",
     "text": [
      ".\\trained_models\\LSTM\\LSTM_Zscore_CF8_pred_2.pth\n"
     ]
    },
    {
     "name": "stderr",
     "output_type": "stream",
     "text": [
      "35it [06:59, 12.33s/it]"
     ]
    },
    {
     "name": "stdout",
     "output_type": "stream",
     "text": [
      ".\\trained_models\\LSTM\\LSTM_Zscore_CF8_pred_4.pth\n"
     ]
    },
    {
     "name": "stderr",
     "output_type": "stream",
     "text": [
      "36it [07:13, 12.70s/it]"
     ]
    },
    {
     "name": "stdout",
     "output_type": "stream",
     "text": [
      ".\\trained_models\\MLP\\MLP_Zscore_CF1_pred_0.pth\n"
     ]
    },
    {
     "name": "stderr",
     "output_type": "stream",
     "text": [
      "37it [07:24, 12.13s/it]"
     ]
    },
    {
     "name": "stdout",
     "output_type": "stream",
     "text": [
      ".\\trained_models\\MLP\\MLP_Zscore_CF1_pred_2.pth\n"
     ]
    },
    {
     "name": "stderr",
     "output_type": "stream",
     "text": [
      "38it [07:35, 11.73s/it]"
     ]
    },
    {
     "name": "stdout",
     "output_type": "stream",
     "text": [
      ".\\trained_models\\MLP\\MLP_Zscore_CF1_pred_4.pth\n"
     ]
    },
    {
     "name": "stderr",
     "output_type": "stream",
     "text": [
      "39it [07:45, 11.45s/it]"
     ]
    },
    {
     "name": "stdout",
     "output_type": "stream",
     "text": [
      ".\\trained_models\\MLP\\MLP_Zscore_CF3_pred_0.pth\n"
     ]
    },
    {
     "name": "stderr",
     "output_type": "stream",
     "text": [
      "40it [07:56, 11.17s/it]"
     ]
    },
    {
     "name": "stdout",
     "output_type": "stream",
     "text": [
      ".\\trained_models\\MLP\\MLP_Zscore_CF3_pred_2.pth\n"
     ]
    },
    {
     "name": "stderr",
     "output_type": "stream",
     "text": [
      "41it [08:06, 10.98s/it]"
     ]
    },
    {
     "name": "stdout",
     "output_type": "stream",
     "text": [
      ".\\trained_models\\MLP\\MLP_Zscore_CF3_pred_4.pth\n"
     ]
    },
    {
     "name": "stderr",
     "output_type": "stream",
     "text": [
      "42it [08:17, 10.88s/it]"
     ]
    },
    {
     "name": "stdout",
     "output_type": "stream",
     "text": [
      ".\\trained_models\\MLP\\MLP_Zscore_CF5_pred_0.pth\n"
     ]
    },
    {
     "name": "stderr",
     "output_type": "stream",
     "text": [
      "43it [08:28, 10.88s/it]"
     ]
    },
    {
     "name": "stdout",
     "output_type": "stream",
     "text": [
      ".\\trained_models\\MLP\\MLP_Zscore_CF5_pred_2.pth\n"
     ]
    },
    {
     "name": "stderr",
     "output_type": "stream",
     "text": [
      "44it [08:39, 10.90s/it]"
     ]
    },
    {
     "name": "stdout",
     "output_type": "stream",
     "text": [
      ".\\trained_models\\MLP\\MLP_Zscore_CF5_pred_4.pth\n"
     ]
    },
    {
     "name": "stderr",
     "output_type": "stream",
     "text": [
      "45it [08:50, 10.96s/it]"
     ]
    },
    {
     "name": "stdout",
     "output_type": "stream",
     "text": [
      ".\\trained_models\\MLP\\MLP_Zscore_CF8_pred_0.pth\n"
     ]
    },
    {
     "name": "stderr",
     "output_type": "stream",
     "text": [
      "46it [09:04, 11.81s/it]"
     ]
    },
    {
     "name": "stdout",
     "output_type": "stream",
     "text": [
      ".\\trained_models\\MLP\\MLP_Zscore_CF8_pred_2.pth\n"
     ]
    },
    {
     "name": "stderr",
     "output_type": "stream",
     "text": [
      "47it [09:17, 12.34s/it]"
     ]
    },
    {
     "name": "stdout",
     "output_type": "stream",
     "text": [
      ".\\trained_models\\MLP\\MLP_Zscore_CF8_pred_4.pth\n"
     ]
    },
    {
     "name": "stderr",
     "output_type": "stream",
     "text": [
      "48it [09:31, 11.91s/it]\n"
     ]
    }
   ],
   "source": [
    "# Load trained model weights from disk\n",
    "testing_params = product(zip(['CNN_LSTM', 'CNN', 'LSTM', 'MLP'], [CNN_LSTM, CNN, LSTM, MLP]), [1, 3, 5, 8], [0, 2, 4])\n",
    "\n",
    "for (model_name, model_type), cf, k in tqdm(testing_params):\n",
    "    model_path = os.path.join('.', 'trained_models', model_name)\n",
    "    trained_model_path = os.path.join(model_path, f'{model_name}_Zscore_CF{cf}_pred_{k}.pth')\n",
    "    print(trained_model_path)\n",
    "\n",
    "    trained_model = load_model(model_type, trained_model_path)\n",
    "\n",
    "    # Load validation/test dataset\n",
    "    test_data = FIDataset(DATA_DIR, 'Zscore', cf, k=k, train=False)\n",
    "    test_loader = DataLoader(dataset=test_data, batch_size=BATCH_SIZE, shuffle=True, num_workers=NUM_WORKER)\n",
    "\n",
    "    trained_model.eval()\n",
    "    trained_model.to(trained_model.device)\n",
    "\n",
    "    all_predictions = []\n",
    "    all_targets = []\n",
    "\n",
    "    # Predict labels and calculate accuracy\n",
    "    with torch.no_grad():\n",
    "        for inputs, targets in test_loader:\n",
    "            inputs, targets = inputs.to(trained_model.device, dtype=torch.float32), targets.to(trained_model.device, dtype=torch.int64)\n",
    "            outputs = trained_model(inputs)\n",
    "            _, predictions = torch.max(outputs, 1)\n",
    "\n",
    "            all_predictions.extend(predictions.cpu().numpy())\n",
    "            all_targets.extend(targets.cpu().numpy())\n",
    "\n",
    "    accuracy = accuracy_score(all_targets, all_predictions)\n",
    "    precision = precision_score(all_targets, all_predictions, average='weighted', zero_division=0)\n",
    "    recall = recall_score(all_targets, all_predictions, average='weighted', zero_division=0)\n",
    "    f1 = f1_score(all_targets, all_predictions, average='weighted', zero_division=0)\n",
    "\n",
    "    testing_results['model_type'].append(model_name)\n",
    "    testing_results['train_data_size'].append(cf)\n",
    "    testing_results['prediction_horizon'].append(k)\n",
    "    testing_results['accuracy'].append(accuracy)\n",
    "    testing_results['precision'].append(precision)\n",
    "    testing_results['recall'].append(recall)\n",
    "    testing_results['f1'].append(f1)"
   ]
  },
  {
   "cell_type": "markdown",
   "id": "2a019335a5bbd122",
   "metadata": {},
   "source": [
    "# Save Testing Stats"
   ]
  },
  {
   "cell_type": "code",
   "execution_count": 4,
   "id": "49b6d8935861a390",
   "metadata": {
    "ExecuteTime": {
     "end_time": "2025-04-16T20:31:20.011930Z",
     "start_time": "2025-04-16T20:31:19.997963Z"
    }
   },
   "outputs": [],
   "source": [
    "import pandas as pd\n",
    "import pickle\n",
    "\n",
    "testing_results_df = pd.DataFrame(testing_results)\n",
    "with open('testing_results.pkl', 'wb') as f:\n",
    "    pickle.dump(testing_results_df, f)"
   ]
  },
  {
   "cell_type": "code",
   "execution_count": 5,
   "id": "f81d4716ac247c5a",
   "metadata": {
    "ExecuteTime": {
     "end_time": "2025-04-16T20:31:20.046453Z",
     "start_time": "2025-04-16T20:31:20.018445Z"
    }
   },
   "outputs": [
    {
     "data": {
      "text/html": [
       "<div>\n",
       "<style scoped>\n",
       "    .dataframe tbody tr th:only-of-type {\n",
       "        vertical-align: middle;\n",
       "    }\n",
       "\n",
       "    .dataframe tbody tr th {\n",
       "        vertical-align: top;\n",
       "    }\n",
       "\n",
       "    .dataframe thead th {\n",
       "        text-align: right;\n",
       "    }\n",
       "</style>\n",
       "<table border=\"1\" class=\"dataframe\">\n",
       "  <thead>\n",
       "    <tr style=\"text-align: right;\">\n",
       "      <th></th>\n",
       "      <th>model_type</th>\n",
       "      <th>train_data_size</th>\n",
       "      <th>prediction_horizon</th>\n",
       "      <th>accuracy</th>\n",
       "      <th>precision</th>\n",
       "      <th>recall</th>\n",
       "      <th>f1</th>\n",
       "    </tr>\n",
       "  </thead>\n",
       "  <tbody>\n",
       "    <tr>\n",
       "      <th>0</th>\n",
       "      <td>CNN_LSTM</td>\n",
       "      <td>1</td>\n",
       "      <td>0</td>\n",
       "      <td>0.573875</td>\n",
       "      <td>0.484466</td>\n",
       "      <td>0.573875</td>\n",
       "      <td>0.465098</td>\n",
       "    </tr>\n",
       "    <tr>\n",
       "      <th>1</th>\n",
       "      <td>CNN_LSTM</td>\n",
       "      <td>1</td>\n",
       "      <td>2</td>\n",
       "      <td>0.374123</td>\n",
       "      <td>0.374969</td>\n",
       "      <td>0.374123</td>\n",
       "      <td>0.374240</td>\n",
       "    </tr>\n",
       "    <tr>\n",
       "      <th>2</th>\n",
       "      <td>CNN_LSTM</td>\n",
       "      <td>1</td>\n",
       "      <td>4</td>\n",
       "      <td>0.515698</td>\n",
       "      <td>0.500366</td>\n",
       "      <td>0.515698</td>\n",
       "      <td>0.496513</td>\n",
       "    </tr>\n",
       "    <tr>\n",
       "      <th>3</th>\n",
       "      <td>CNN_LSTM</td>\n",
       "      <td>3</td>\n",
       "      <td>0</td>\n",
       "      <td>0.603154</td>\n",
       "      <td>0.534757</td>\n",
       "      <td>0.603154</td>\n",
       "      <td>0.478451</td>\n",
       "    </tr>\n",
       "    <tr>\n",
       "      <th>4</th>\n",
       "      <td>CNN_LSTM</td>\n",
       "      <td>3</td>\n",
       "      <td>2</td>\n",
       "      <td>0.634582</td>\n",
       "      <td>0.633881</td>\n",
       "      <td>0.634582</td>\n",
       "      <td>0.624495</td>\n",
       "    </tr>\n",
       "    <tr>\n",
       "      <th>5</th>\n",
       "      <td>CNN_LSTM</td>\n",
       "      <td>3</td>\n",
       "      <td>4</td>\n",
       "      <td>0.662478</td>\n",
       "      <td>0.662496</td>\n",
       "      <td>0.662478</td>\n",
       "      <td>0.662375</td>\n",
       "    </tr>\n",
       "    <tr>\n",
       "      <th>6</th>\n",
       "      <td>CNN_LSTM</td>\n",
       "      <td>5</td>\n",
       "      <td>0</td>\n",
       "      <td>0.616551</td>\n",
       "      <td>0.537847</td>\n",
       "      <td>0.616551</td>\n",
       "      <td>0.506248</td>\n",
       "    </tr>\n",
       "    <tr>\n",
       "      <th>7</th>\n",
       "      <td>CNN_LSTM</td>\n",
       "      <td>5</td>\n",
       "      <td>2</td>\n",
       "      <td>0.685697</td>\n",
       "      <td>0.691451</td>\n",
       "      <td>0.685697</td>\n",
       "      <td>0.675131</td>\n",
       "    </tr>\n",
       "    <tr>\n",
       "      <th>8</th>\n",
       "      <td>CNN_LSTM</td>\n",
       "      <td>5</td>\n",
       "      <td>4</td>\n",
       "      <td>0.711747</td>\n",
       "      <td>0.714468</td>\n",
       "      <td>0.711747</td>\n",
       "      <td>0.711004</td>\n",
       "    </tr>\n",
       "    <tr>\n",
       "      <th>9</th>\n",
       "      <td>CNN_LSTM</td>\n",
       "      <td>8</td>\n",
       "      <td>0</td>\n",
       "      <td>0.816011</td>\n",
       "      <td>0.808944</td>\n",
       "      <td>0.816011</td>\n",
       "      <td>0.795133</td>\n",
       "    </tr>\n",
       "    <tr>\n",
       "      <th>10</th>\n",
       "      <td>CNN_LSTM</td>\n",
       "      <td>8</td>\n",
       "      <td>2</td>\n",
       "      <td>0.757823</td>\n",
       "      <td>0.752839</td>\n",
       "      <td>0.757823</td>\n",
       "      <td>0.747506</td>\n",
       "    </tr>\n",
       "    <tr>\n",
       "      <th>11</th>\n",
       "      <td>CNN_LSTM</td>\n",
       "      <td>8</td>\n",
       "      <td>4</td>\n",
       "      <td>0.772762</td>\n",
       "      <td>0.772255</td>\n",
       "      <td>0.772762</td>\n",
       "      <td>0.772129</td>\n",
       "    </tr>\n",
       "    <tr>\n",
       "      <th>12</th>\n",
       "      <td>CNN</td>\n",
       "      <td>1</td>\n",
       "      <td>0</td>\n",
       "      <td>0.591684</td>\n",
       "      <td>0.350090</td>\n",
       "      <td>0.591684</td>\n",
       "      <td>0.439899</td>\n",
       "    </tr>\n",
       "    <tr>\n",
       "      <th>13</th>\n",
       "      <td>CNN</td>\n",
       "      <td>1</td>\n",
       "      <td>2</td>\n",
       "      <td>0.402063</td>\n",
       "      <td>0.275729</td>\n",
       "      <td>0.402063</td>\n",
       "      <td>0.319245</td>\n",
       "    </tr>\n",
       "    <tr>\n",
       "      <th>14</th>\n",
       "      <td>CNN</td>\n",
       "      <td>1</td>\n",
       "      <td>4</td>\n",
       "      <td>0.425598</td>\n",
       "      <td>0.257283</td>\n",
       "      <td>0.425598</td>\n",
       "      <td>0.257461</td>\n",
       "    </tr>\n",
       "    <tr>\n",
       "      <th>15</th>\n",
       "      <td>CNN</td>\n",
       "      <td>3</td>\n",
       "      <td>0</td>\n",
       "      <td>0.597761</td>\n",
       "      <td>0.357318</td>\n",
       "      <td>0.597761</td>\n",
       "      <td>0.447273</td>\n",
       "    </tr>\n",
       "    <tr>\n",
       "      <th>16</th>\n",
       "      <td>CNN</td>\n",
       "      <td>3</td>\n",
       "      <td>2</td>\n",
       "      <td>0.402102</td>\n",
       "      <td>0.331392</td>\n",
       "      <td>0.402102</td>\n",
       "      <td>0.312875</td>\n",
       "    </tr>\n",
       "    <tr>\n",
       "      <th>17</th>\n",
       "      <td>CNN</td>\n",
       "      <td>3</td>\n",
       "      <td>4</td>\n",
       "      <td>0.417023</td>\n",
       "      <td>0.384582</td>\n",
       "      <td>0.417023</td>\n",
       "      <td>0.364931</td>\n",
       "    </tr>\n",
       "    <tr>\n",
       "      <th>18</th>\n",
       "      <td>CNN</td>\n",
       "      <td>5</td>\n",
       "      <td>0</td>\n",
       "      <td>0.613679</td>\n",
       "      <td>0.461478</td>\n",
       "      <td>0.613679</td>\n",
       "      <td>0.468211</td>\n",
       "    </tr>\n",
       "    <tr>\n",
       "      <th>19</th>\n",
       "      <td>CNN</td>\n",
       "      <td>5</td>\n",
       "      <td>2</td>\n",
       "      <td>0.443361</td>\n",
       "      <td>0.412398</td>\n",
       "      <td>0.443361</td>\n",
       "      <td>0.344431</td>\n",
       "    </tr>\n",
       "    <tr>\n",
       "      <th>20</th>\n",
       "      <td>CNN</td>\n",
       "      <td>5</td>\n",
       "      <td>4</td>\n",
       "      <td>0.405748</td>\n",
       "      <td>0.405956</td>\n",
       "      <td>0.405748</td>\n",
       "      <td>0.356052</td>\n",
       "    </tr>\n",
       "    <tr>\n",
       "      <th>21</th>\n",
       "      <td>CNN</td>\n",
       "      <td>8</td>\n",
       "      <td>0</td>\n",
       "      <td>0.703601</td>\n",
       "      <td>0.579289</td>\n",
       "      <td>0.703601</td>\n",
       "      <td>0.584301</td>\n",
       "    </tr>\n",
       "    <tr>\n",
       "      <th>22</th>\n",
       "      <td>CNN</td>\n",
       "      <td>8</td>\n",
       "      <td>2</td>\n",
       "      <td>0.553844</td>\n",
       "      <td>0.472391</td>\n",
       "      <td>0.553844</td>\n",
       "      <td>0.462759</td>\n",
       "    </tr>\n",
       "    <tr>\n",
       "      <th>23</th>\n",
       "      <td>CNN</td>\n",
       "      <td>8</td>\n",
       "      <td>4</td>\n",
       "      <td>0.390367</td>\n",
       "      <td>0.404640</td>\n",
       "      <td>0.390367</td>\n",
       "      <td>0.379915</td>\n",
       "    </tr>\n",
       "    <tr>\n",
       "      <th>24</th>\n",
       "      <td>LSTM</td>\n",
       "      <td>1</td>\n",
       "      <td>0</td>\n",
       "      <td>0.591684</td>\n",
       "      <td>0.350090</td>\n",
       "      <td>0.591684</td>\n",
       "      <td>0.439899</td>\n",
       "    </tr>\n",
       "    <tr>\n",
       "      <th>25</th>\n",
       "      <td>LSTM</td>\n",
       "      <td>1</td>\n",
       "      <td>2</td>\n",
       "      <td>0.407973</td>\n",
       "      <td>0.367975</td>\n",
       "      <td>0.407973</td>\n",
       "      <td>0.342882</td>\n",
       "    </tr>\n",
       "    <tr>\n",
       "      <th>26</th>\n",
       "      <td>LSTM</td>\n",
       "      <td>1</td>\n",
       "      <td>4</td>\n",
       "      <td>0.434357</td>\n",
       "      <td>0.364777</td>\n",
       "      <td>0.434357</td>\n",
       "      <td>0.331350</td>\n",
       "    </tr>\n",
       "    <tr>\n",
       "      <th>27</th>\n",
       "      <td>LSTM</td>\n",
       "      <td>3</td>\n",
       "      <td>0</td>\n",
       "      <td>0.597761</td>\n",
       "      <td>0.357318</td>\n",
       "      <td>0.597761</td>\n",
       "      <td>0.447273</td>\n",
       "    </tr>\n",
       "    <tr>\n",
       "      <th>28</th>\n",
       "      <td>LSTM</td>\n",
       "      <td>3</td>\n",
       "      <td>2</td>\n",
       "      <td>0.407687</td>\n",
       "      <td>0.383542</td>\n",
       "      <td>0.407687</td>\n",
       "      <td>0.372896</td>\n",
       "    </tr>\n",
       "    <tr>\n",
       "      <th>29</th>\n",
       "      <td>LSTM</td>\n",
       "      <td>3</td>\n",
       "      <td>4</td>\n",
       "      <td>0.491842</td>\n",
       "      <td>0.484821</td>\n",
       "      <td>0.491842</td>\n",
       "      <td>0.445760</td>\n",
       "    </tr>\n",
       "    <tr>\n",
       "      <th>30</th>\n",
       "      <td>LSTM</td>\n",
       "      <td>5</td>\n",
       "      <td>0</td>\n",
       "      <td>0.614326</td>\n",
       "      <td>0.502651</td>\n",
       "      <td>0.614326</td>\n",
       "      <td>0.480757</td>\n",
       "    </tr>\n",
       "    <tr>\n",
       "      <th>31</th>\n",
       "      <td>LSTM</td>\n",
       "      <td>5</td>\n",
       "      <td>2</td>\n",
       "      <td>0.447629</td>\n",
       "      <td>0.414565</td>\n",
       "      <td>0.447629</td>\n",
       "      <td>0.406989</td>\n",
       "    </tr>\n",
       "    <tr>\n",
       "      <th>32</th>\n",
       "      <td>LSTM</td>\n",
       "      <td>5</td>\n",
       "      <td>4</td>\n",
       "      <td>0.477430</td>\n",
       "      <td>0.474041</td>\n",
       "      <td>0.477430</td>\n",
       "      <td>0.428200</td>\n",
       "    </tr>\n",
       "    <tr>\n",
       "      <th>33</th>\n",
       "      <td>LSTM</td>\n",
       "      <td>8</td>\n",
       "      <td>0</td>\n",
       "      <td>0.705594</td>\n",
       "      <td>0.635797</td>\n",
       "      <td>0.705594</td>\n",
       "      <td>0.597228</td>\n",
       "    </tr>\n",
       "    <tr>\n",
       "      <th>34</th>\n",
       "      <td>LSTM</td>\n",
       "      <td>8</td>\n",
       "      <td>2</td>\n",
       "      <td>0.634480</td>\n",
       "      <td>0.623517</td>\n",
       "      <td>0.634480</td>\n",
       "      <td>0.581961</td>\n",
       "    </tr>\n",
       "    <tr>\n",
       "      <th>35</th>\n",
       "      <td>LSTM</td>\n",
       "      <td>8</td>\n",
       "      <td>4</td>\n",
       "      <td>0.528997</td>\n",
       "      <td>0.554844</td>\n",
       "      <td>0.528997</td>\n",
       "      <td>0.515534</td>\n",
       "    </tr>\n",
       "    <tr>\n",
       "      <th>36</th>\n",
       "      <td>MLP</td>\n",
       "      <td>1</td>\n",
       "      <td>0</td>\n",
       "      <td>0.572819</td>\n",
       "      <td>0.407080</td>\n",
       "      <td>0.572819</td>\n",
       "      <td>0.460693</td>\n",
       "    </tr>\n",
       "    <tr>\n",
       "      <th>37</th>\n",
       "      <td>MLP</td>\n",
       "      <td>1</td>\n",
       "      <td>2</td>\n",
       "      <td>0.421614</td>\n",
       "      <td>0.415037</td>\n",
       "      <td>0.421614</td>\n",
       "      <td>0.402516</td>\n",
       "    </tr>\n",
       "    <tr>\n",
       "      <th>38</th>\n",
       "      <td>MLP</td>\n",
       "      <td>1</td>\n",
       "      <td>4</td>\n",
       "      <td>0.486017</td>\n",
       "      <td>0.455706</td>\n",
       "      <td>0.486017</td>\n",
       "      <td>0.434954</td>\n",
       "    </tr>\n",
       "    <tr>\n",
       "      <th>39</th>\n",
       "      <td>MLP</td>\n",
       "      <td>3</td>\n",
       "      <td>0</td>\n",
       "      <td>0.595133</td>\n",
       "      <td>0.401669</td>\n",
       "      <td>0.595133</td>\n",
       "      <td>0.450164</td>\n",
       "    </tr>\n",
       "    <tr>\n",
       "      <th>40</th>\n",
       "      <td>MLP</td>\n",
       "      <td>3</td>\n",
       "      <td>2</td>\n",
       "      <td>0.458908</td>\n",
       "      <td>0.458867</td>\n",
       "      <td>0.458908</td>\n",
       "      <td>0.449947</td>\n",
       "    </tr>\n",
       "    <tr>\n",
       "      <th>41</th>\n",
       "      <td>MLP</td>\n",
       "      <td>3</td>\n",
       "      <td>4</td>\n",
       "      <td>0.549743</td>\n",
       "      <td>0.529442</td>\n",
       "      <td>0.549743</td>\n",
       "      <td>0.507951</td>\n",
       "    </tr>\n",
       "    <tr>\n",
       "      <th>42</th>\n",
       "      <td>MLP</td>\n",
       "      <td>5</td>\n",
       "      <td>0</td>\n",
       "      <td>0.606643</td>\n",
       "      <td>0.445186</td>\n",
       "      <td>0.606643</td>\n",
       "      <td>0.495284</td>\n",
       "    </tr>\n",
       "    <tr>\n",
       "      <th>43</th>\n",
       "      <td>MLP</td>\n",
       "      <td>5</td>\n",
       "      <td>2</td>\n",
       "      <td>0.510050</td>\n",
       "      <td>0.506940</td>\n",
       "      <td>0.510050</td>\n",
       "      <td>0.486754</td>\n",
       "    </tr>\n",
       "    <tr>\n",
       "      <th>44</th>\n",
       "      <td>MLP</td>\n",
       "      <td>5</td>\n",
       "      <td>4</td>\n",
       "      <td>0.541687</td>\n",
       "      <td>0.516814</td>\n",
       "      <td>0.541687</td>\n",
       "      <td>0.497745</td>\n",
       "    </tr>\n",
       "    <tr>\n",
       "      <th>45</th>\n",
       "      <td>MLP</td>\n",
       "      <td>8</td>\n",
       "      <td>0</td>\n",
       "      <td>0.709290</td>\n",
       "      <td>0.570080</td>\n",
       "      <td>0.709290</td>\n",
       "      <td>0.610131</td>\n",
       "    </tr>\n",
       "    <tr>\n",
       "      <th>46</th>\n",
       "      <td>MLP</td>\n",
       "      <td>8</td>\n",
       "      <td>2</td>\n",
       "      <td>0.603750</td>\n",
       "      <td>0.578368</td>\n",
       "      <td>0.603750</td>\n",
       "      <td>0.578468</td>\n",
       "    </tr>\n",
       "    <tr>\n",
       "      <th>47</th>\n",
       "      <td>MLP</td>\n",
       "      <td>8</td>\n",
       "      <td>4</td>\n",
       "      <td>0.548890</td>\n",
       "      <td>0.570047</td>\n",
       "      <td>0.548890</td>\n",
       "      <td>0.536178</td>\n",
       "    </tr>\n",
       "  </tbody>\n",
       "</table>\n",
       "</div>"
      ],
      "text/plain": [
       "   model_type  train_data_size  prediction_horizon  accuracy  precision  \\\n",
       "0    CNN_LSTM                1                   0  0.573875   0.484466   \n",
       "1    CNN_LSTM                1                   2  0.374123   0.374969   \n",
       "2    CNN_LSTM                1                   4  0.515698   0.500366   \n",
       "3    CNN_LSTM                3                   0  0.603154   0.534757   \n",
       "4    CNN_LSTM                3                   2  0.634582   0.633881   \n",
       "5    CNN_LSTM                3                   4  0.662478   0.662496   \n",
       "6    CNN_LSTM                5                   0  0.616551   0.537847   \n",
       "7    CNN_LSTM                5                   2  0.685697   0.691451   \n",
       "8    CNN_LSTM                5                   4  0.711747   0.714468   \n",
       "9    CNN_LSTM                8                   0  0.816011   0.808944   \n",
       "10   CNN_LSTM                8                   2  0.757823   0.752839   \n",
       "11   CNN_LSTM                8                   4  0.772762   0.772255   \n",
       "12        CNN                1                   0  0.591684   0.350090   \n",
       "13        CNN                1                   2  0.402063   0.275729   \n",
       "14        CNN                1                   4  0.425598   0.257283   \n",
       "15        CNN                3                   0  0.597761   0.357318   \n",
       "16        CNN                3                   2  0.402102   0.331392   \n",
       "17        CNN                3                   4  0.417023   0.384582   \n",
       "18        CNN                5                   0  0.613679   0.461478   \n",
       "19        CNN                5                   2  0.443361   0.412398   \n",
       "20        CNN                5                   4  0.405748   0.405956   \n",
       "21        CNN                8                   0  0.703601   0.579289   \n",
       "22        CNN                8                   2  0.553844   0.472391   \n",
       "23        CNN                8                   4  0.390367   0.404640   \n",
       "24       LSTM                1                   0  0.591684   0.350090   \n",
       "25       LSTM                1                   2  0.407973   0.367975   \n",
       "26       LSTM                1                   4  0.434357   0.364777   \n",
       "27       LSTM                3                   0  0.597761   0.357318   \n",
       "28       LSTM                3                   2  0.407687   0.383542   \n",
       "29       LSTM                3                   4  0.491842   0.484821   \n",
       "30       LSTM                5                   0  0.614326   0.502651   \n",
       "31       LSTM                5                   2  0.447629   0.414565   \n",
       "32       LSTM                5                   4  0.477430   0.474041   \n",
       "33       LSTM                8                   0  0.705594   0.635797   \n",
       "34       LSTM                8                   2  0.634480   0.623517   \n",
       "35       LSTM                8                   4  0.528997   0.554844   \n",
       "36        MLP                1                   0  0.572819   0.407080   \n",
       "37        MLP                1                   2  0.421614   0.415037   \n",
       "38        MLP                1                   4  0.486017   0.455706   \n",
       "39        MLP                3                   0  0.595133   0.401669   \n",
       "40        MLP                3                   2  0.458908   0.458867   \n",
       "41        MLP                3                   4  0.549743   0.529442   \n",
       "42        MLP                5                   0  0.606643   0.445186   \n",
       "43        MLP                5                   2  0.510050   0.506940   \n",
       "44        MLP                5                   4  0.541687   0.516814   \n",
       "45        MLP                8                   0  0.709290   0.570080   \n",
       "46        MLP                8                   2  0.603750   0.578368   \n",
       "47        MLP                8                   4  0.548890   0.570047   \n",
       "\n",
       "      recall        f1  \n",
       "0   0.573875  0.465098  \n",
       "1   0.374123  0.374240  \n",
       "2   0.515698  0.496513  \n",
       "3   0.603154  0.478451  \n",
       "4   0.634582  0.624495  \n",
       "5   0.662478  0.662375  \n",
       "6   0.616551  0.506248  \n",
       "7   0.685697  0.675131  \n",
       "8   0.711747  0.711004  \n",
       "9   0.816011  0.795133  \n",
       "10  0.757823  0.747506  \n",
       "11  0.772762  0.772129  \n",
       "12  0.591684  0.439899  \n",
       "13  0.402063  0.319245  \n",
       "14  0.425598  0.257461  \n",
       "15  0.597761  0.447273  \n",
       "16  0.402102  0.312875  \n",
       "17  0.417023  0.364931  \n",
       "18  0.613679  0.468211  \n",
       "19  0.443361  0.344431  \n",
       "20  0.405748  0.356052  \n",
       "21  0.703601  0.584301  \n",
       "22  0.553844  0.462759  \n",
       "23  0.390367  0.379915  \n",
       "24  0.591684  0.439899  \n",
       "25  0.407973  0.342882  \n",
       "26  0.434357  0.331350  \n",
       "27  0.597761  0.447273  \n",
       "28  0.407687  0.372896  \n",
       "29  0.491842  0.445760  \n",
       "30  0.614326  0.480757  \n",
       "31  0.447629  0.406989  \n",
       "32  0.477430  0.428200  \n",
       "33  0.705594  0.597228  \n",
       "34  0.634480  0.581961  \n",
       "35  0.528997  0.515534  \n",
       "36  0.572819  0.460693  \n",
       "37  0.421614  0.402516  \n",
       "38  0.486017  0.434954  \n",
       "39  0.595133  0.450164  \n",
       "40  0.458908  0.449947  \n",
       "41  0.549743  0.507951  \n",
       "42  0.606643  0.495284  \n",
       "43  0.510050  0.486754  \n",
       "44  0.541687  0.497745  \n",
       "45  0.709290  0.610131  \n",
       "46  0.603750  0.578468  \n",
       "47  0.548890  0.536178  "
      ]
     },
     "execution_count": 5,
     "metadata": {},
     "output_type": "execute_result"
    }
   ],
   "source": [
    "testing_results_df"
   ]
  },
  {
   "cell_type": "code",
   "execution_count": null,
   "id": "f5e2f62dbf7b6da5",
   "metadata": {
    "ExecuteTime": {
     "end_time": "2025-04-16T20:31:20.132596Z",
     "start_time": "2025-04-16T20:31:20.129484Z"
    }
   },
   "outputs": [],
   "source": []
  }
 ],
 "metadata": {
  "kernelspec": {
   "display_name": "Python 3",
   "language": "python",
   "name": "python3"
  },
  "language_info": {
   "codemirror_mode": {
    "name": "ipython",
    "version": 2
   },
   "file_extension": ".py",
   "mimetype": "text/x-python",
   "name": "python",
   "nbconvert_exporter": "python",
   "pygments_lexer": "ipython2",
   "version": "2.7.6"
  }
 },
 "nbformat": 4,
 "nbformat_minor": 5
}
