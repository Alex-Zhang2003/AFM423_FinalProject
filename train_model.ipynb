{
 "cells": [
  {
   "cell_type": "code",
   "id": "initial_id",
   "metadata": {
    "collapsed": true,
    "ExecuteTime": {
     "end_time": "2025-04-14T13:31:42.939302Z",
     "start_time": "2025-04-14T13:31:40.728830Z"
    }
   },
   "source": [
    "from torch import nn\n",
    "from torch.utils.data import DataLoader\n",
    "from tqdm import tqdm\n",
    "from itertools import product\n",
    "\n",
    "from utils import *\n",
    "from loader.fi_loader import *\n",
    "from models.cnn_lstm import CNN_LSTM\n",
    "from models.cnn import CNN\n",
    "from models.lstm import LSTM\n",
    "from models.mlp import MLP\n",
    "from train import batch_train"
   ],
   "outputs": [],
   "execution_count": 1
  },
  {
   "cell_type": "markdown",
   "id": "70e9eb305eacec91",
   "metadata": {},
   "source": [
    "# Train CNN-LSTM"
   ]
  },
  {
   "cell_type": "code",
   "id": "e551855d1df8e63d",
   "metadata": {},
   "source": [
    "for cf, method, k in tqdm(product([1, 3, 5, 8], ['Zscore'], [0, 2, 4])):\n",
    "    model_name = f'CNN_LSTM_{method}_CF{cf}_pred_{k}'\n",
    "    if os.path.exists(os.path.join('.', 'trained_models', f'{model_name}.pth')):\n",
    "        continue\n",
    "    train_data = FIDataset(DATA_DIR, method, cf, k=k, train=True)\n",
    "    test_data = FIDataset(DATA_DIR, method, cf, k=k, train=False)\n",
    "    train_loader = DataLoader(dataset=train_data, batch_size=BATCH_SIZE, shuffle=True, num_workers=NUM_WORKER)\n",
    "    test_loader = DataLoader(dataset=test_data, batch_size=BATCH_SIZE, shuffle=True, num_workers=NUM_WORKER)\n",
    "\n",
    "    lob_model = CNN_LSTM()\n",
    "    lob_model.to(lob_model.device)\n",
    "\n",
    "    criterion = nn.CrossEntropyLoss()\n",
    "    optimizer = torch.optim.Adam(lob_model.parameters(), lr=LR)\n",
    "\n",
    "    batch_train(model_name, lob_model, criterion, optimizer, train_loader, test_loader, EPOCHS)"
   ],
   "outputs": [],
   "execution_count": null
  },
  {
   "cell_type": "markdown",
   "id": "e6404f1fe7aef0eb",
   "metadata": {},
   "source": [
    "# Train CNN"
   ]
  },
  {
   "cell_type": "code",
   "id": "b811f267be1849e8",
   "metadata": {
    "jupyter": {
     "is_executing": true
    },
    "ExecuteTime": {
     "start_time": "2025-04-14T14:10:15.496767Z"
    }
   },
   "source": [
    "for cf, method, k in tqdm(product([1, 3, 5, 8], ['Zscore'], [0, 2, 4])):\n",
    "    model_name = f'CNN_{method}_CF{cf}_pred_{k}'\n",
    "    if os.path.exists(os.path.join('.', 'trained_models', f'{model_name}.pth')):\n",
    "        continue\n",
    "    train_data = FIDataset(DATA_DIR, method, cf, k=k, train=True)\n",
    "    test_data = FIDataset(DATA_DIR, method, cf, k=k, train=False)\n",
    "    train_loader = DataLoader(dataset=train_data, batch_size=BATCH_SIZE, shuffle=True, num_workers=NUM_WORKER)\n",
    "    test_loader = DataLoader(dataset=test_data, batch_size=BATCH_SIZE, shuffle=True, num_workers=NUM_WORKER)\n",
    "\n",
    "    lob_model = CNN()\n",
    "    lob_model.to(lob_model.device)\n",
    "\n",
    "    criterion = nn.CrossEntropyLoss()\n",
    "    optimizer = torch.optim.Adam(lob_model.parameters(), lr=LR)\n",
    "\n",
    "    batch_train(model_name, lob_model, criterion, optimizer, train_loader, test_loader, EPOCHS)"
   ],
   "outputs": [
    {
     "name": "stderr",
     "output_type": "stream",
     "text": [
      "0it [00:00, ?it/s]"
     ]
    }
   ],
   "execution_count": null
  },
  {
   "cell_type": "markdown",
   "id": "f59f4c62a363eb0e",
   "metadata": {},
   "source": [
    "# Train LSTM"
   ]
  },
  {
   "cell_type": "code",
   "id": "d37058aa04d7c0e7",
   "metadata": {},
   "source": [
    "for cf, method, k in tqdm(product([1, 3, 5, 8], ['Zscore'], [0, 2, 4])):\n",
    "    model_name = f'LSTM_{method}_CF{cf}_pred_{k}'\n",
    "    if os.path.exists(os.path.join('.', 'trained_models', f'{model_name}.pth')):\n",
    "        continue\n",
    "    train_data = FIDataset(DATA_DIR, method, cf, k=k, train=True)\n",
    "    test_data = FIDataset(DATA_DIR, method, cf, k=k, train=False)\n",
    "    train_loader = DataLoader(dataset=train_data, batch_size=BATCH_SIZE, shuffle=True, num_workers=NUM_WORKER)\n",
    "    test_loader = DataLoader(dataset=test_data, batch_size=BATCH_SIZE, shuffle=True, num_workers=NUM_WORKER)\n",
    "    lob_model = LSTM()\n",
    "    lob_model.to(lob_model.device)\n",
    "\n",
    "    criterion = nn.CrossEntropyLoss()\n",
    "    optimizer = torch.optim.Adam(lob_model.parameters(), lr=LR)\n",
    "\n",
    "    batch_train(model_name, lob_model, criterion, optimizer, train_loader, test_loader, EPOCHS)"
   ],
   "outputs": [],
   "execution_count": null
  },
  {
   "cell_type": "markdown",
   "id": "8942c92b4fffe542",
   "metadata": {},
   "source": [
    "# Train MLP"
   ]
  },
  {
   "cell_type": "code",
   "id": "c28744ad77ffc761",
   "metadata": {},
   "source": [
    "for cf, method, k in tqdm(product([1, 3, 5, 8], ['Zscore'], [0, 2, 4])):\n",
    "    model_name = f'MLP_{method}_CF{cf}_pred_{k}'\n",
    "    if os.path.exists(os.path.join('.', 'trained_models', f'{model_name}.pth')):\n",
    "        continue\n",
    "    train_data = FIDataset(DATA_DIR, method, cf, k=k, train=True)\n",
    "    test_data = FIDataset(DATA_DIR, method, cf, k=k, train=False)\n",
    "    train_loader = DataLoader(dataset=train_data, batch_size=BATCH_SIZE, shuffle=True, num_workers=NUM_WORKER)\n",
    "    test_loader = DataLoader(dataset=test_data, batch_size=BATCH_SIZE, shuffle=True, num_workers=NUM_WORKER)\n",
    "\n",
    "    lob_model = MLP()\n",
    "    lob_model.to(lob_model.device)\n",
    "\n",
    "    criterion = nn.CrossEntropyLoss()\n",
    "    optimizer = torch.optim.Adam(lob_model.parameters(), lr=LR)\n",
    "\n",
    "    batch_train(model_name, lob_model, criterion, optimizer, train_loader, test_loader, EPOCHS)"
   ],
   "outputs": [],
   "execution_count": null
  }
 ],
 "metadata": {
  "kernelspec": {
   "display_name": "Python 3",
   "language": "python",
   "name": "python3"
  },
  "language_info": {
   "codemirror_mode": {
    "name": "ipython",
    "version": 2
   },
   "file_extension": ".py",
   "mimetype": "text/x-python",
   "name": "python",
   "nbconvert_exporter": "python",
   "pygments_lexer": "ipython2",
   "version": "2.7.6"
  }
 },
 "nbformat": 4,
 "nbformat_minor": 5
}
